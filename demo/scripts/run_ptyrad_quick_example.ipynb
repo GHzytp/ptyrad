{
 "cells": [
  {
   "cell_type": "markdown",
   "metadata": {},
   "source": [
    " # Quick example for PtyRAD\n",
    "\n",
    " Chia-Hao Lee\n",
    "\n",
    "cl2696@cornell.edu\n",
    "\n",
    "Updated on 2025.05.12\n",
    "\n",
    "Note: This notebook is designed for ease of operation with the solver class `PtyRADSolver`, both \"reconstruction\" and \"hypertune\" modes are supported.\n",
    "\n",
    "Before running this notebook, you must first follow the instruction in `README.md` to:\n",
    "1. Create the Python environment with all dependant Python packages like PyTorch\n",
    "2. Activate that python environment\n",
    "3. Install `ptyrad` package into your activated Python environement (only need to install once)\n",
    "4. Download the demo data into `demo/data/` from the `demo/data/data_url.txt`"
   ]
  },
  {
   "cell_type": "code",
   "execution_count": null,
   "metadata": {},
   "outputs": [],
   "source": [
    "import os\n",
    "\n",
    "# Change this to the ABSOLUTE PATH to the demo/ folder so you can correctly access data/ and params/\n",
    "work_dir = \"../\" # Leave this as-is if you're running the notebook from the `ptyrad/demo/scripts/` folder, this will change it back to demo/\n",
    "\n",
    "os.chdir(work_dir)\n",
    "print(\"Current working dir: \", os.getcwd())\n",
    "# The printed working dir should be \".../ptyrad/demo\" to locate the demo params files easily\n",
    "# Note that the output/ directory will be automatically generated under your working directory"
   ]
  },
  {
   "cell_type": "code",
   "execution_count": null,
   "metadata": {},
   "outputs": [],
   "source": [
    "from ptyrad.load import load_params\n",
    "from ptyrad.reconstruction import PtyRADSolver\n",
    "from ptyrad.utils import print_system_info, set_gpu_device, CustomLogger\n",
    "\n",
    "logger = CustomLogger(log_file='ptyrad_log.txt', log_dir='auto', prefix_date=True, append_to_file=True, show_timestamp=True)\n",
    "\n",
    "# All the following params files are provided in demo/params/ and we're using relative path here\n",
    "# So if you change the working directory, or have moved params files around, you'll have to provide absolute path to the params file\n",
    "\n",
    "params_path = \"params/tBL_WSe2_reconstruct.yml\"\n",
    "# params_path = \"params/PSO_reconstruct.yml\"\n",
    "# params_path = \"params/tBL_WSe2_hypertune.yml\" # This will run PtyRAD with the hyperparameter tuning mode\n",
    "\n",
    "print_system_info()\n",
    "params = load_params(params_path)\n",
    "device = set_gpu_device(gpuid=0) # Pass in `gpuid = None` if you don't have access to a CUDA-compatible GPU. Note that running PtyRAD with CPU would be much slower than on GPU.\n",
    "\n",
    "ptycho_solver = PtyRADSolver(params, device=device, logger=logger)"
   ]
  },
  {
   "cell_type": "code",
   "execution_count": null,
   "metadata": {},
   "outputs": [],
   "source": [
    "ptycho_solver.run()\n",
    "\n",
    "# Only `reconstruct` mode will return the final reconstructed model, because it's infeasible to store all models in `hypertune` mode and we don't know which model to return in `hypertune` mode\n",
    "if not ptycho_solver.if_hypertune:\n",
    "    model = ptycho_solver.reconstruct_results "
   ]
  }
 ],
 "metadata": {
  "kernelspec": {
   "display_name": "ptyrad",
   "language": "python",
   "name": "python3"
  },
  "language_info": {
   "codemirror_mode": {
    "name": "ipython",
    "version": 3
   },
   "file_extension": ".py",
   "mimetype": "text/x-python",
   "name": "python",
   "nbconvert_exporter": "python",
   "pygments_lexer": "ipython3",
   "version": "3.12.10"
  }
 },
 "nbformat": 4,
 "nbformat_minor": 2
}
