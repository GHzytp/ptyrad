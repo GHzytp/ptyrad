{
 "cells": [
  {
   "cell_type": "code",
   "execution_count": 1,
   "metadata": {},
   "outputs": [],
   "source": [
    "import numpy as np\n",
    "import matplotlib.pyplot as plt\n",
    "from tifffile import imread\n",
    "%matplotlib qt \n",
    "import hyperspy.api as hs"
   ]
  },
  {
   "cell_type": "code",
   "execution_count": 2,
   "metadata": {},
   "outputs": [
    {
     "data": {
      "text/plain": [
       "(64, 391, 403)"
      ]
     },
     "execution_count": 2,
     "metadata": {},
     "output_type": "execute_result"
    }
   ],
   "source": [
    "#img_path = \"output/CNS_10obj_1e-4_random/AD_image_CNS_10obj_1e-4_iter0600.tif\"\n",
    "img_path = \"output/CNS_64obj_3e-4_random_clamp_regu/image_CNS_64obj_3e-4_iter0050.tif\"\n",
    "img = imread(img_path)\n",
    "img.shape"
   ]
  },
  {
   "cell_type": "code",
   "execution_count": 3,
   "metadata": {},
   "outputs": [],
   "source": [
    "window = 144\n",
    "img_crop = img[:,202-window//2:202+window//2, 201-window//2:201+window//2]\n",
    "\n",
    "fig, axs = plt.subplots(1,2)\n",
    "im00 = axs[0].imshow(np.mean(img_crop, 0))\n",
    "fig.colorbar(im00, shrink=0.6)\n",
    "axs[0].set_title(f'Mean image (N={len(img_crop)})')\n",
    "im01 = axs[1].imshow(np.std(img_crop,0))\n",
    "fig.colorbar(im01, shrink=0.6)\n",
    "axs[1].set_title(f'Std image (N={len(img_crop)})')\n",
    "\n",
    "plt.show()"
   ]
  },
  {
   "cell_type": "code",
   "execution_count": 10,
   "metadata": {},
   "outputs": [
    {
     "ename": "KeyboardInterrupt",
     "evalue": "",
     "output_type": "error",
     "traceback": [
      "\u001b[1;31m---------------------------------------------------------------------------\u001b[0m",
      "\u001b[1;31mKeyboardInterrupt\u001b[0m                         Traceback (most recent call last)",
      "Cell \u001b[1;32mIn [10], line 3\u001b[0m\n\u001b[0;32m      1\u001b[0m s \u001b[38;5;241m=\u001b[39m hs\u001b[38;5;241m.\u001b[39msignals\u001b[38;5;241m.\u001b[39mSignal2D(img_crop)\n\u001b[0;32m      2\u001b[0m s\u001b[38;5;241m.\u001b[39mplot()\n\u001b[1;32m----> 3\u001b[0m \u001b[43ms\u001b[49m\u001b[38;5;241;43m.\u001b[39;49m\u001b[43mdecomposition\u001b[49m\u001b[43m(\u001b[49m\u001b[43malgorithm\u001b[49m\u001b[38;5;241;43m=\u001b[39;49m\u001b[38;5;124;43m\"\u001b[39;49m\u001b[38;5;124;43mMLPCA\u001b[39;49m\u001b[38;5;124;43m\"\u001b[39;49m\u001b[43m,\u001b[49m\u001b[43m \u001b[49m\u001b[43mcentre\u001b[49m\u001b[38;5;241;43m=\u001b[39;49m\u001b[38;5;124;43m'\u001b[39;49m\u001b[38;5;124;43msignal\u001b[39;49m\u001b[38;5;124;43m'\u001b[39;49m\u001b[43m,\u001b[49m\u001b[43m \u001b[49m\u001b[43moutput_dimension\u001b[49m\u001b[38;5;241;43m=\u001b[39;49m\u001b[38;5;241;43m3\u001b[39;49m\u001b[43m)\u001b[49m \u001b[38;5;66;03m# Default is SVD\u001b[39;00m\n\u001b[0;32m      4\u001b[0m \u001b[38;5;66;03m#s.plot_explained_variance_ratio() \u001b[39;00m\n\u001b[0;32m      5\u001b[0m s\u001b[38;5;241m.\u001b[39mplot_decomposition_results()\n",
      "File \u001b[1;32mc:\\Users\\chiahao3\\anaconda3\\envs\\work\\lib\\site-packages\\hyperspy\\learn\\mva.py:487\u001b[0m, in \u001b[0;36mMVA.decomposition\u001b[1;34m(self, normalize_poissonian_noise, algorithm, output_dimension, centre, auto_transpose, navigation_mask, signal_mask, var_array, var_func, reproject, return_info, print_info, svd_solver, copy, **kwargs)\u001b[0m\n\u001b[0;32m    481\u001b[0m     \u001b[38;5;28;01melse\u001b[39;00m:\n\u001b[0;32m    482\u001b[0m         \u001b[38;5;28;01mraise\u001b[39;00m \u001b[38;5;167;01mValueError\u001b[39;00m(\n\u001b[0;32m    483\u001b[0m             \u001b[38;5;124m\"\u001b[39m\u001b[38;5;124m`var_func` must be either a function or an array \u001b[39m\u001b[38;5;124m\"\u001b[39m\n\u001b[0;32m    484\u001b[0m             \u001b[38;5;124m\"\u001b[39m\u001b[38;5;124mdefining the coefficients of a polynomial\u001b[39m\u001b[38;5;124m\"\u001b[39m\n\u001b[0;32m    485\u001b[0m         )\n\u001b[1;32m--> 487\u001b[0m U, S, V, Sobj \u001b[38;5;241m=\u001b[39m mlpca(\n\u001b[0;32m    488\u001b[0m     data_, var_array, output_dimension, svd_solver\u001b[38;5;241m=\u001b[39msvd_solver, \u001b[38;5;241m*\u001b[39m\u001b[38;5;241m*\u001b[39mkwargs,\n\u001b[0;32m    489\u001b[0m )\n\u001b[0;32m    491\u001b[0m loadings \u001b[38;5;241m=\u001b[39m U \u001b[38;5;241m*\u001b[39m S\n\u001b[0;32m    492\u001b[0m factors \u001b[38;5;241m=\u001b[39m V\n",
      "File \u001b[1;32mc:\\Users\\chiahao3\\anaconda3\\envs\\work\\lib\\site-packages\\hyperspy\\learn\\mlpca.py:128\u001b[0m, in \u001b[0;36mmlpca\u001b[1;34m(X, varX, output_dimension, svd_solver, tol, max_iter, **kwargs)\u001b[0m\n\u001b[0;32m    126\u001b[0m Uq \u001b[38;5;241m=\u001b[39m U\u001b[38;5;241m.\u001b[39mT \u001b[38;5;241m*\u001b[39m inv_v[:, i]\n\u001b[0;32m    127\u001b[0m F \u001b[38;5;241m=\u001b[39m np\u001b[38;5;241m.\u001b[39mlinalg\u001b[38;5;241m.\u001b[39minv(Uq \u001b[38;5;241m@\u001b[39m U)\n\u001b[1;32m--> 128\u001b[0m M[:, i] \u001b[38;5;241m=\u001b[39m \u001b[43mnp\u001b[49m\u001b[38;5;241;43m.\u001b[39;49m\u001b[43mlinalg\u001b[49m\u001b[38;5;241;43m.\u001b[39;49m\u001b[43mmulti_dot\u001b[49m\u001b[43m(\u001b[49m\u001b[43m[\u001b[49m\u001b[43mU\u001b[49m\u001b[43m,\u001b[49m\u001b[43m \u001b[49m\u001b[43mF\u001b[49m\u001b[43m,\u001b[49m\u001b[43m \u001b[49m\u001b[43mUq\u001b[49m\u001b[43m,\u001b[49m\u001b[43m \u001b[49m\u001b[43mX\u001b[49m\u001b[43m[\u001b[49m\u001b[43m:\u001b[49m\u001b[43m,\u001b[49m\u001b[43m \u001b[49m\u001b[43mi\u001b[49m\u001b[43m]\u001b[49m\u001b[38;5;241;43m.\u001b[39;49m\u001b[43mT\u001b[49m\u001b[43m]\u001b[49m\u001b[43m)\u001b[49m\n\u001b[0;32m    129\u001b[0m dx \u001b[38;5;241m=\u001b[39m X[:, i] \u001b[38;5;241m-\u001b[39m M[:, i]\n\u001b[0;32m    130\u001b[0m s_obj \u001b[38;5;241m+\u001b[39m\u001b[38;5;241m=\u001b[39m (dx \u001b[38;5;241m*\u001b[39m inv_v[:, i]) \u001b[38;5;241m@\u001b[39m dx\u001b[38;5;241m.\u001b[39mT\n",
      "File \u001b[1;32m<__array_function__ internals>:180\u001b[0m, in \u001b[0;36mmulti_dot\u001b[1;34m(*args, **kwargs)\u001b[0m\n",
      "File \u001b[1;32mc:\\Users\\chiahao3\\anaconda3\\envs\\work\\lib\\site-packages\\numpy\\linalg\\linalg.py:2727\u001b[0m, in \u001b[0;36mmulti_dot\u001b[1;34m(arrays, out)\u001b[0m\n\u001b[0;32m   2725\u001b[0m \u001b[38;5;28;01melse\u001b[39;00m:\n\u001b[0;32m   2726\u001b[0m     order \u001b[38;5;241m=\u001b[39m _multi_dot_matrix_chain_order(arrays)\n\u001b[1;32m-> 2727\u001b[0m     result \u001b[38;5;241m=\u001b[39m \u001b[43m_multi_dot\u001b[49m\u001b[43m(\u001b[49m\u001b[43marrays\u001b[49m\u001b[43m,\u001b[49m\u001b[43m \u001b[49m\u001b[43morder\u001b[49m\u001b[43m,\u001b[49m\u001b[43m \u001b[49m\u001b[38;5;241;43m0\u001b[39;49m\u001b[43m,\u001b[49m\u001b[43m \u001b[49m\u001b[43mn\u001b[49m\u001b[43m \u001b[49m\u001b[38;5;241;43m-\u001b[39;49m\u001b[43m \u001b[49m\u001b[38;5;241;43m1\u001b[39;49m\u001b[43m,\u001b[49m\u001b[43m \u001b[49m\u001b[43mout\u001b[49m\u001b[38;5;241;43m=\u001b[39;49m\u001b[43mout\u001b[49m\u001b[43m)\u001b[49m\n\u001b[0;32m   2729\u001b[0m \u001b[38;5;66;03m# return proper shape\u001b[39;00m\n\u001b[0;32m   2730\u001b[0m \u001b[38;5;28;01mif\u001b[39;00m ndim_first \u001b[38;5;241m==\u001b[39m \u001b[38;5;241m1\u001b[39m \u001b[38;5;129;01mand\u001b[39;00m ndim_last \u001b[38;5;241m==\u001b[39m \u001b[38;5;241m1\u001b[39m:\n",
      "File \u001b[1;32mc:\\Users\\chiahao3\\anaconda3\\envs\\work\\lib\\site-packages\\numpy\\linalg\\linalg.py:2808\u001b[0m, in \u001b[0;36m_multi_dot\u001b[1;34m(arrays, order, i, j, out)\u001b[0m\n\u001b[0;32m   2806\u001b[0m     \u001b[38;5;28;01mreturn\u001b[39;00m arrays[i]\n\u001b[0;32m   2807\u001b[0m \u001b[38;5;28;01melse\u001b[39;00m:\n\u001b[1;32m-> 2808\u001b[0m     \u001b[38;5;28;01mreturn\u001b[39;00m \u001b[43mdot\u001b[49m\u001b[43m(\u001b[49m\u001b[43m_multi_dot\u001b[49m\u001b[43m(\u001b[49m\u001b[43marrays\u001b[49m\u001b[43m,\u001b[49m\u001b[43m \u001b[49m\u001b[43morder\u001b[49m\u001b[43m,\u001b[49m\u001b[43m \u001b[49m\u001b[43mi\u001b[49m\u001b[43m,\u001b[49m\u001b[43m \u001b[49m\u001b[43morder\u001b[49m\u001b[43m[\u001b[49m\u001b[43mi\u001b[49m\u001b[43m,\u001b[49m\u001b[43m \u001b[49m\u001b[43mj\u001b[49m\u001b[43m]\u001b[49m\u001b[43m)\u001b[49m\u001b[43m,\u001b[49m\n\u001b[0;32m   2809\u001b[0m \u001b[43m               \u001b[49m\u001b[43m_multi_dot\u001b[49m\u001b[43m(\u001b[49m\u001b[43marrays\u001b[49m\u001b[43m,\u001b[49m\u001b[43m \u001b[49m\u001b[43morder\u001b[49m\u001b[43m,\u001b[49m\u001b[43m \u001b[49m\u001b[43morder\u001b[49m\u001b[43m[\u001b[49m\u001b[43mi\u001b[49m\u001b[43m,\u001b[49m\u001b[43m \u001b[49m\u001b[43mj\u001b[49m\u001b[43m]\u001b[49m\u001b[43m \u001b[49m\u001b[38;5;241;43m+\u001b[39;49m\u001b[43m \u001b[49m\u001b[38;5;241;43m1\u001b[39;49m\u001b[43m,\u001b[49m\u001b[43m \u001b[49m\u001b[43mj\u001b[49m\u001b[43m)\u001b[49m\u001b[43m,\u001b[49m\n\u001b[0;32m   2810\u001b[0m \u001b[43m               \u001b[49m\u001b[43mout\u001b[49m\u001b[38;5;241;43m=\u001b[39;49m\u001b[43mout\u001b[49m\u001b[43m)\u001b[49m\n",
      "File \u001b[1;32m<__array_function__ internals>:180\u001b[0m, in \u001b[0;36mdot\u001b[1;34m(*args, **kwargs)\u001b[0m\n",
      "\u001b[1;31mKeyboardInterrupt\u001b[0m: "
     ]
    }
   ],
   "source": [
    "s = hs.signals.Signal2D(img_crop)\n",
    "s.plot()\n",
    "s.decomposition(algorithm=\"MLPCA\", centre='signal', output_dimension=3) # Default is SVD, other options: PCA, MLPCA, RPCA, ORPCA, NMF, ORNMF,  \n",
    "#s.plot_explained_variance_ratio() \n",
    "s.plot_decomposition_results()\n",
    "\n",
    "sm = s.get_decomposition_model(components=3)\n",
    "sm.plot(title='model')\n",
    "(s-sm).plot(cmap='seismic', title='difference')"
   ]
  },
  {
   "cell_type": "code",
   "execution_count": null,
   "metadata": {},
   "outputs": [],
   "source": [
    "s.get_decomposition_model()"
   ]
  },
  {
   "cell_type": "code",
   "execution_count": null,
   "metadata": {},
   "outputs": [],
   "source": [
    "data_arr = np.array(s.data)\n",
    "model_arr = np.array(sm)"
   ]
  },
  {
   "cell_type": "code",
   "execution_count": null,
   "metadata": {},
   "outputs": [],
   "source": [
    "imwrite(\"output/CNS_64obj_5e-4_random/CNS_64obj_5e-4_random_16bit.tif\", np.uint16(65535*(data_arr - data_arr.min())/(data_arr.max() - data_arr.min())))\n",
    "imwrite(\"output/CNS_64obj_5e-4_random/CNS_64obj_5e-4_random_SVD_3_of_13comp_16bit.tif\", np.uint16(65535*(model_arr - model_arr.min())/(model_arr.max() - model_arr.min())))"
   ]
  },
  {
   "cell_type": "code",
   "execution_count": null,
   "metadata": {},
   "outputs": [],
   "source": [
    "from tifffile import imwrite\n",
    "sm_arr = np.array(sm)\n",
    "imwrite(\"output/CNS_10obj_1e-4_random/CNS_10obj_1e-4_random_SVD_3_of_10comp.tif\", np.float32(sm_arr))\n",
    "imwrite(\"output/CNS_10obj_1e-4_random/CNS_10obj_1e-4_random_SVD_3_of_10comp_16bit.tif\", np.uint16(65535*(sm_arr - sm_arr.min())/(sm_arr.max() - sm_arr.min())))"
   ]
  },
  {
   "cell_type": "code",
   "execution_count": null,
   "metadata": {},
   "outputs": [],
   "source": [
    "sd = s.get_decomposition_factors()"
   ]
  },
  {
   "cell_type": "code",
   "execution_count": null,
   "metadata": {},
   "outputs": [],
   "source": []
  },
  {
   "cell_type": "code",
   "execution_count": null,
   "metadata": {},
   "outputs": [],
   "source": [
    "factors = np.array(sd)"
   ]
  },
  {
   "cell_type": "code",
   "execution_count": null,
   "metadata": {},
   "outputs": [],
   "source": [
    "fig, axs = plt.subplots(1,len(factors))\n",
    "for i in range(len(factors)):\n",
    "    im = axs[i].imshow(factors[i])\n",
    "    axs[i].set_title(f'Components {i}')\n",
    "    fig.colorbar(im, shrink=0.6)\n",
    "plt.show()"
   ]
  },
  {
   "cell_type": "code",
   "execution_count": null,
   "metadata": {},
   "outputs": [],
   "source": [
    "fig, axs = plt.subplots(2, 5)  # Create a 2x5 grid of subplots\n",
    "plt.subplots_adjust(wspace=0, hspace=0)  # Adjust spacing between subplots\n",
    "\n",
    "for i in range(2):\n",
    "    for j in range(5):\n",
    "        im = axs[i, j].imshow(factors[i * 5 + j])  # Adjust index to access factors list correctly\n",
    "        axs[i, j].set_title(f'Components {i * 5 + j}')  # Adjust index for subplot titles\n",
    "        fig.colorbar(im, ax=axs[i, j], shrink=0.6)  # Associate colorbar with subplot\n",
    "        axs[i, j].tick_params(axis='both', which='both', bottom=False, top=False, left=False, right=False,\n",
    "                               labelbottom=False, labelleft=False)  # Turn off ticks\n",
    "\n",
    "plt.show()\n"
   ]
  }
 ],
 "metadata": {
  "kernelspec": {
   "display_name": "cornell",
   "language": "python",
   "name": "python3"
  },
  "language_info": {
   "codemirror_mode": {
    "name": "ipython",
    "version": 3
   },
   "file_extension": ".py",
   "mimetype": "text/x-python",
   "name": "python",
   "nbconvert_exporter": "python",
   "pygments_lexer": "ipython3",
   "version": "3.10.8"
  }
 },
 "nbformat": 4,
 "nbformat_minor": 2
}
