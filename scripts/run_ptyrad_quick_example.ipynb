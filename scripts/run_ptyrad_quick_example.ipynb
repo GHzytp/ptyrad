{
 "cells": [
  {
   "cell_type": "markdown",
   "metadata": {},
   "source": [
    " # Quick example for PtyRAD\n",
    "\n",
    " Chia-Hao Lee\n",
    "\n",
    "cl2696@cornell.edu\n",
    "\n",
    "Updated on 2024.10.01"
   ]
  },
  {
   "cell_type": "code",
   "execution_count": null,
   "metadata": {},
   "outputs": [],
   "source": [
    "import os\n",
    "\n",
    "work_dir = \"H:\\workspace\\ptyrad\" # The main \"ptyrad\" package is expected to be under this \"work_dir\"\n",
    "os.chdir(work_dir)\n",
    "print(\"Current working dir: \", os.getcwd())"
   ]
  },
  {
   "cell_type": "code",
   "execution_count": null,
   "metadata": {},
   "outputs": [],
   "source": [
    "from ptyrad.data_io import load_params\n",
    "from ptyrad.reconstruction import PtyRADSolver\n",
    "from ptyrad.utils import set_gpu_device\n",
    "\n",
    "params_path = \"params/demo/tBL_WSe2_reconstruct.yml\"\n",
    "device = set_gpu_device(gpuid=0)\n",
    "\n",
    "params = load_params(params_path)\n",
    "ptycho_solver = PtyRADSolver(params, device=device)"
   ]
  },
  {
   "cell_type": "code",
   "execution_count": null,
   "metadata": {},
   "outputs": [],
   "source": [
    "ptycho_solver.run()\n",
    "model = ptycho_solver.reconstruct_results"
   ]
  }
 ],
 "metadata": {
  "kernelspec": {
   "display_name": "ptyrad",
   "language": "python",
   "name": "python3"
  },
  "language_info": {
   "codemirror_mode": {
    "name": "ipython",
    "version": 3
   },
   "file_extension": ".py",
   "mimetype": "text/x-python",
   "name": "python",
   "nbconvert_exporter": "python",
   "pygments_lexer": "ipython3",
   "version": "3.11.5"
  }
 },
 "nbformat": 4,
 "nbformat_minor": 2
}
