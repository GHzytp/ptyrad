{
 "cells": [
  {
   "cell_type": "markdown",
   "metadata": {},
   "source": [
    " # Quick example for PtyRAD\n",
    "\n",
    " Chia-Hao Lee\n",
    "\n",
    "cl2696@cornell.edu\n",
    "\n",
    "Updated on 2025.05.07"
   ]
  },
  {
   "cell_type": "code",
   "execution_count": null,
   "metadata": {},
   "outputs": [],
   "source": [
    "import os\n",
    "\n",
    "work_dir = \"H:/workspace/ptyrad\" # The main \"ptyrad\" package is expected to be under this \"work_dir\"\n",
    "os.chdir(work_dir)\n",
    "print(\"Current working dir: \", os.getcwd())"
   ]
  },
  {
   "cell_type": "code",
   "execution_count": null,
   "metadata": {},
   "outputs": [],
   "source": [
    "from ptyrad.data_io import load_params\n",
    "from ptyrad.reconstruction import PtyRADSolver\n",
    "from ptyrad.utils import print_system_info, set_gpu_device, CustomLogger\n",
    "\n",
    "logger = CustomLogger(log_file='ptyrad_log.txt', log_dir='auto', prefix_date=True, append_to_file=True, show_timestamp=True)\n",
    "\n",
    "params_path = \"params/demo_tBL_WSe2_reconstruct.yml\"\n",
    "\n",
    "print_system_info()\n",
    "params = load_params(params_path)\n",
    "device = set_gpu_device(gpuid=0)\n",
    "\n",
    "ptycho_solver = PtyRADSolver(params, device=device, logger=logger)"
   ]
  },
  {
   "cell_type": "code",
   "execution_count": null,
   "metadata": {},
   "outputs": [],
   "source": [
    "ptycho_solver.run()\n",
    "\n",
    "# Only `reconstruct` mode will return the final reconstructed model, because it's infeasible to store all models in `hypertune` mode and we don't know which model to return in `hypertune` mode\n",
    "if not ptycho_solver.if_hypertune:\n",
    "    model = ptycho_solver.reconstruct_results "
   ]
  }
 ],
 "metadata": {
  "kernelspec": {
   "display_name": "ptyrad",
   "language": "python",
   "name": "python3"
  },
  "language_info": {
   "codemirror_mode": {
    "name": "ipython",
    "version": 3
   },
   "file_extension": ".py",
   "mimetype": "text/x-python",
   "name": "python",
   "nbconvert_exporter": "python",
   "pygments_lexer": "ipython3",
   "version": "3.12.10"
  }
 },
 "nbformat": 4,
 "nbformat_minor": 2
}
