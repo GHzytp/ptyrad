{
 "cells": [
  {
   "cell_type": "markdown",
   "metadata": {},
   "source": [
    " # Quick example for PtyRAD\n",
    "\n",
    " Chia-Hao Lee\n",
    "\n",
    "cl2696@cornell.edu\n",
    "\n",
    "Created 2024.08.16"
   ]
  },
  {
   "cell_type": "code",
   "execution_count": null,
   "metadata": {},
   "outputs": [],
   "source": [
    "import os\n",
    "import torch\n",
    "\n",
    "GPUID = 0\n",
    "DEVICE = torch.device('cuda:' + str(GPUID))\n",
    "print('Execution device: ', DEVICE)\n",
    "print('PyTorch version: ', torch.__version__)\n",
    "print('CUDA available: ', torch.cuda.is_available())\n",
    "print('CUDA version: ', torch.version.cuda)\n",
    "print('CUDA device: ', torch.cuda.get_device_name(GPUID))\n",
    "\n",
    "work_dir = 'H:\\workspace\\ptyrad'\n",
    "os.chdir(work_dir)\n",
    "print('Current working dir: ', os.getcwd())\n",
    "\n",
    "from ptyrad.data_io import load_params\n",
    "from ptyrad.reconstruction import PtyRADSolver"
   ]
  },
  {
   "cell_type": "code",
   "execution_count": null,
   "metadata": {},
   "outputs": [],
   "source": [
    "params_path = 'ptyrad/inputs/full_params_tBL_WSe2.yml'\n",
    "if_hypertune = True\n",
    "if_quiet = True\n",
    "\n",
    "params        = load_params(params_path)\n",
    "ptycho_solver = PtyRADSolver(params, \n",
    "                            if_hypertune=if_hypertune, \n",
    "                            if_quiet=if_quiet, \n",
    "                            device=DEVICE)"
   ]
  },
  {
   "cell_type": "code",
   "execution_count": null,
   "metadata": {},
   "outputs": [],
   "source": [
    "ptycho_solver.run()"
   ]
  }
 ],
 "metadata": {
  "kernelspec": {
   "display_name": "ptyrad",
   "language": "python",
   "name": "python3"
  },
  "language_info": {
   "codemirror_mode": {
    "name": "ipython",
    "version": 3
   },
   "file_extension": ".py",
   "mimetype": "text/x-python",
   "name": "python",
   "nbconvert_exporter": "python",
   "pygments_lexer": "ipython3",
   "version": "3.11.5"
  }
 },
 "nbformat": 4,
 "nbformat_minor": 2
}
