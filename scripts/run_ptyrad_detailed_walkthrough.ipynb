{
 "cells": [
  {
   "cell_type": "markdown",
   "metadata": {},
   "source": [
    " # Detailed walk through for PtyRAD\n",
    "\n",
    " Chia-Hao Lee\n",
    "\n",
    "cl2696@cornell.edu\n",
    "\n",
    "Updated on 2025.02.13\n",
    "\n",
    "Note: This notebook is designed for showcasing only the \"reconstruction\" mode, most of the wrapper class / functions are exposed so that you can see how different components work together."
   ]
  },
  {
   "cell_type": "markdown",
   "metadata": {},
   "source": [
    "# 01. Imports"
   ]
  },
  {
   "cell_type": "code",
   "execution_count": null,
   "metadata": {},
   "outputs": [],
   "source": [
    "import os\n",
    "from random import shuffle\n",
    "\n",
    "import numpy as np\n",
    "import torch\n",
    "\n",
    "work_dir = \"H:\\workspace\\ptyrad\"\n",
    "os.chdir(work_dir)\n",
    "print(\"Current working dir: \", os.getcwd())"
   ]
  },
  {
   "cell_type": "code",
   "execution_count": null,
   "metadata": {},
   "outputs": [],
   "source": [
    "\n",
    "from ptyrad.data_io import load_params\n",
    "from ptyrad.initialization import Initializer\n",
    "from ptyrad.models import PtychoAD\n",
    "from ptyrad.optimization import CombinedConstraint, CombinedLoss, create_optimizer\n",
    "from ptyrad.reconstruction import recon_step\n",
    "from ptyrad.utils import (\n",
    "    copy_params_to_dir,\n",
    "    CustomLogger,\n",
    "    get_blob_size,\n",
    "    make_batches,\n",
    "    make_output_folder,\n",
    "    parse_sec_to_time_str,\n",
    "    print_system_info,\n",
    "    save_results,\n",
    "    select_scan_indices,\n",
    "    set_gpu_device,\n",
    "    test_loss_fn,\n",
    "    time_sync,\n",
    "    vprint,\n",
    ")\n",
    "from ptyrad.visualization import (\n",
    "    plot_forward_pass,\n",
    "    plot_pos_grouping,\n",
    "    plot_scan_positions,\n",
    "    plot_summary,\n",
    ")\n"
   ]
  },
  {
   "cell_type": "code",
   "execution_count": null,
   "metadata": {},
   "outputs": [],
   "source": [
    "logger = CustomLogger(log_file='ptyrad_log.txt', log_dir='auto', prefix_date=True, append_to_file=False, show_timestamp=True)\n",
    "\n",
    "print_system_info()\n",
    "device = set_gpu_device(gpuid=0)"
   ]
  },
  {
   "cell_type": "markdown",
   "metadata": {},
   "source": [
    "# 02. Initialize optimization"
   ]
  },
  {
   "cell_type": "code",
   "execution_count": null,
   "metadata": {},
   "outputs": [],
   "source": [
    "params_path = \"params/demo/tBL_WSe2_reconstruct.yml\"\n",
    "\n",
    "params              = load_params(params_path)\n",
    "exp_params          = params['exp_params']\n",
    "source_params       = params['source_params']\n",
    "hypertune_params    = params['hypertune_params'] # It's parsed but not needed in this demo notebook\n",
    "model_params        = params['model_params']\n",
    "loss_params         = params['loss_params']\n",
    "constraint_params   = params['constraint_params']\n",
    "recon_params        = params['recon_params']"
   ]
  },
  {
   "cell_type": "code",
   "execution_count": null,
   "metadata": {},
   "outputs": [],
   "source": [
    "init = Initializer(exp_params, source_params).init_all()"
   ]
  },
  {
   "cell_type": "code",
   "execution_count": null,
   "metadata": {},
   "outputs": [],
   "source": [
    "pos = init.init_variables[\"crop_pos\"] + init.init_variables[\"probe_pos_shifts\"]\n",
    "plot_scan_positions(pos, figsize=(8, 8))"
   ]
  },
  {
   "cell_type": "code",
   "execution_count": null,
   "metadata": {},
   "outputs": [],
   "source": [
    "model = PtychoAD(init.init_variables, model_params, device=device)\n",
    "optimizer = create_optimizer(model.optimizer_params, model.optimizable_params)"
   ]
  },
  {
   "cell_type": "markdown",
   "metadata": {},
   "source": [
    "## Check the forward pass"
   ]
  },
  {
   "cell_type": "code",
   "execution_count": null,
   "metadata": {},
   "outputs": [],
   "source": [
    "indices = np.random.randint(0, init.init_variables[\"N_scans\"], 2)\n",
    "dp_power = 0.5\n",
    "plot_forward_pass(model, indices, dp_power)"
   ]
  },
  {
   "cell_type": "markdown",
   "metadata": {},
   "source": [
    "## Finetune the loss params"
   ]
  },
  {
   "cell_type": "code",
   "execution_count": null,
   "metadata": {},
   "outputs": [],
   "source": [
    "indices = np.random.randint(0, init.init_variables[\"N_scans\"], 16)\n",
    "loss_fn = CombinedLoss(loss_params, device=device)\n",
    "test_loss_fn(model, indices, loss_fn)"
   ]
  },
  {
   "cell_type": "markdown",
   "metadata": {},
   "source": [
    "# Setup the iteration-wise constraint params"
   ]
  },
  {
   "cell_type": "code",
   "execution_count": null,
   "metadata": {},
   "outputs": [],
   "source": [
    "constraint_fn = CombinedConstraint(constraint_params, device=device)"
   ]
  },
  {
   "cell_type": "markdown",
   "metadata": {},
   "source": [
    "# 03. Main optimization loop"
   ]
  },
  {
   "cell_type": "code",
   "execution_count": null,
   "metadata": {},
   "outputs": [],
   "source": [
    "NITER             = recon_params['NITER']\n",
    "INDICES_MODE      = recon_params['INDICES_MODE']\n",
    "batch_size        = recon_params['BATCH_SIZE'].get(\"size\")\n",
    "grad_accumulation = recon_params['BATCH_SIZE'].get(\"grad_accumulation\")\n",
    "GROUP_MODE        = recon_params['GROUP_MODE']\n",
    "SAVE_ITERS        = recon_params['SAVE_ITERS']\n",
    "output_dir        = recon_params['output_dir']\n",
    "recon_dir_affixes = recon_params['recon_dir_affixes']\n",
    "prefix_date       = recon_params['prefix_date']\n",
    "prefix            = recon_params['prefix']\n",
    "postfix           = recon_params['postfix']\n",
    "save_result       = recon_params['save_result']\n",
    "result_modes      = recon_params['result_modes'] \n",
    "selected_figs     = recon_params['selected_figs']\n",
    "copy_params       = recon_params['copy_params']\n",
    "\n",
    "pos = (model.crop_pos + model.opt_probe_pos_shifts).detach().cpu().numpy() # The .to(torch.float32) upcast is a preventive solution because .numpy() doesn't support bf16\n",
    "probe_int = model.get_complex_probe_view().abs().pow(2).sum(0).detach().cpu().numpy()\n",
    "dx = init.init_variables[\"dx\"]\n",
    "d_out = get_blob_size(dx, probe_int, output=\"d90\")  # d_out unit is in Ang\n",
    "\n",
    "indices = select_scan_indices(\n",
    "    init.init_variables['N_scan_slow'],\n",
    "    init.init_variables['N_scan_fast'],\n",
    "    subscan_slow=INDICES_MODE['subscan_slow'],\n",
    "    subscan_fast=INDICES_MODE['subscan_fast'],\n",
    "    mode=INDICES_MODE['mode'],\n",
    ")\n",
    "\n",
    "batches = make_batches(indices, pos, batch_size, mode=GROUP_MODE)\n",
    "vprint(f\"The effective batch size (i.e., how many probe positions are simultaneously used for 1 update of ptychographic parameters) is batch_size * grad_accumulation = {batch_size} * {grad_accumulation} = {batch_size*grad_accumulation}\")\n",
    "\n",
    "fig_grouping = plot_pos_grouping(\n",
    "    pos,\n",
    "    batches,\n",
    "    circle_diameter=d_out / dx,\n",
    "    diameter_type=\"90%\",\n",
    "    dot_scale=1,\n",
    "    show_fig=True,\n",
    "    pass_fig=True,\n",
    ")\n",
    "\n",
    "if SAVE_ITERS is not None:\n",
    "    output_path = make_output_folder(\n",
    "        output_dir,\n",
    "        indices,\n",
    "        exp_params,\n",
    "        recon_params,\n",
    "        model,\n",
    "        constraint_params,\n",
    "        loss_params,\n",
    "        recon_dir_affixes\n",
    "    )\n",
    "    \n",
    "    fig_grouping.savefig(output_path + \"/summary_pos_grouping.png\")\n",
    "\n",
    "    if copy_params:\n",
    "        copy_params_to_dir(params_path, output_path)\n",
    "\n",
    "# Flush to file after the output_path is created\n",
    "if logger is not None and logger.flush_file:\n",
    "    logger.flush_to_file(log_dir = output_path)"
   ]
  },
  {
   "cell_type": "code",
   "execution_count": null,
   "metadata": {},
   "outputs": [],
   "source": [
    "start_t = time_sync()\n",
    "vprint(\"### Starting the PtyRADSolver in reconstruction mode ###\")\n",
    "vprint(\" \")\n",
    "\n",
    "for niter in range(1, NITER + 1):\n",
    "\n",
    "    shuffle(batches)\n",
    "    batch_losses = recon_step(\n",
    "        batches, grad_accumulation, model, optimizer, loss_fn, constraint_fn, niter\n",
    "    )\n",
    "\n",
    "    ## Saving intermediate results\n",
    "    if SAVE_ITERS is not None and niter % SAVE_ITERS == 0:\n",
    "        with torch.no_grad():\n",
    "        # Note that `exp_params` stores the initial exp_params, while `model` contains the actual params that could be updated if either meas_crop or meas_resample is not None\n",
    "            save_results(\n",
    "                output_path,\n",
    "                model,\n",
    "                params,\n",
    "                optimizer,\n",
    "                niter,\n",
    "                indices,\n",
    "                batch_losses,\n",
    "            )\n",
    "\n",
    "            ## Saving summary\n",
    "            plot_summary(\n",
    "                output_path,\n",
    "                model,\n",
    "                niter,\n",
    "                indices,\n",
    "                init.init_variables,\n",
    "                selected_figs=selected_figs,\n",
    "                show_fig=False,\n",
    "                save_fig=True,\n",
    "            )\n",
    "vprint(f\"### Finish {NITER} iterations, averaged iter_t = {np.mean(model.iter_times):.5g} sec ###\")\n",
    "vprint(\" \")\n",
    "end_t = time_sync()\n",
    "solver_t = end_t - start_t\n",
    "time_str = f\", or {parse_sec_to_time_str(solver_t)}\" if solver_t > 60 else \"\"\n",
    "vprint(f\"### The PtyRADSolver is finished in {solver_t:.3f} sec {time_str} ###\")\n",
    "\n",
    "if logger is not None and logger.flush_file:\n",
    "    logger.close()"
   ]
  }
 ],
 "metadata": {
  "kernelspec": {
   "display_name": "ptyrad",
   "language": "python",
   "name": "python3"
  },
  "language_info": {
   "codemirror_mode": {
    "name": "ipython",
    "version": 3
   },
   "file_extension": ".py",
   "mimetype": "text/x-python",
   "name": "python",
   "nbconvert_exporter": "python",
   "pygments_lexer": "ipython3",
   "version": "3.11.12"
  }
 },
 "nbformat": 4,
 "nbformat_minor": 2
}
