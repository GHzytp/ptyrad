{
 "cells": [
  {
   "cell_type": "markdown",
   "metadata": {},
   "source": [
    " # Detailed walk through for PtyRAD\n",
    "\n",
    " Chia-Hao Lee\n",
    "\n",
    "cl2696@cornell.edu\n",
    "\n",
    "Updated on 2024.08.18"
   ]
  },
  {
   "cell_type": "markdown",
   "metadata": {},
   "source": [
    "# 01. Imports"
   ]
  },
  {
   "cell_type": "code",
   "execution_count": null,
   "metadata": {},
   "outputs": [],
   "source": [
    "import os\n",
    "from random import shuffle\n",
    "\n",
    "import numpy as np\n",
    "import torch\n",
    "\n",
    "GPUID = 0\n",
    "DEVICE = torch.device(\"cuda:\" + str(GPUID))\n",
    "print(\"Execution device: \", DEVICE)\n",
    "print(\"PyTorch version: \", torch.__version__)\n",
    "print(\"CUDA available: \", torch.cuda.is_available())\n",
    "print(\"CUDA version: \", torch.version.cuda)\n",
    "print(\"CUDA device:\", torch.cuda.get_device_name(GPUID))"
   ]
  },
  {
   "cell_type": "code",
   "execution_count": null,
   "metadata": {},
   "outputs": [],
   "source": [
    "work_dir = \"H:\\workspace\\ptyrad\"\n",
    "os.chdir(work_dir)\n",
    "print(\"Current working dir: \", os.getcwd())"
   ]
  },
  {
   "cell_type": "code",
   "execution_count": null,
   "metadata": {},
   "outputs": [],
   "source": [
    "from ptyrad.data_io import load_params\n",
    "from ptyrad.initialization import Initializer\n",
    "from ptyrad.models import PtychoAD\n",
    "from ptyrad.optimization import CombinedConstraint, CombinedLoss\n",
    "from ptyrad.reconstruction import loss_logger, recon_step\n",
    "from ptyrad.utils import (\n",
    "    get_blob_size,\n",
    "    make_batches,\n",
    "    make_output_folder,\n",
    "    save_results,\n",
    "    select_scan_indices,\n",
    "    test_loss_fn,\n",
    ")\n",
    "from ptyrad.visualization import (\n",
    "    plot_forward_pass,\n",
    "    plot_pos_grouping,\n",
    "    plot_scan_positions,\n",
    "    plot_summary,\n",
    ")"
   ]
  },
  {
   "cell_type": "markdown",
   "metadata": {},
   "source": [
    "# 02. Initialize optimization"
   ]
  },
  {
   "cell_type": "code",
   "execution_count": null,
   "metadata": {},
   "outputs": [],
   "source": [
    "params_path = \"params/tSTO_04.yml\"\n",
    "\n",
    "params              = load_params(params_path)\n",
    "exp_params          = params.get(\"exp_params\")\n",
    "source_params       = params.get(\"source_params\")\n",
    "hypertune_params    = params.get(\"hypertune_params\")\n",
    "model_params        = params.get(\"model_params\")\n",
    "loss_params         = params.get(\"loss_params\")\n",
    "constraint_params   = params.get(\"constraint_params\")\n",
    "recon_params        = params.get(\"recon_params\")"
   ]
  },
  {
   "cell_type": "code",
   "execution_count": null,
   "metadata": {},
   "outputs": [],
   "source": [
    "init = Initializer(exp_params, source_params).init_all()"
   ]
  },
  {
   "cell_type": "code",
   "execution_count": null,
   "metadata": {},
   "outputs": [],
   "source": [
    "# # Estimate the local obj tilts\n",
    "# from ptyrad.utils import get_local_obj_tilts\n",
    "# pos = init.init_variables['crop_pos'] + exp_params['Npix']//2\n",
    "# objp = np.angle(init.init_variables['obj'].mean(0)) # Take the average omode\n",
    "# dx = exp_params['dx_spec']\n",
    "# z_distance = exp_params['z_distance']\n",
    "# slice_indices = [2,9]\n",
    "# blob_params = {'min_sigma':1, 'max_sigma':5, 'overlap':0.1, 'threshold':0.35, 'exclude_border':(150,150)}\n",
    "# obj_tilts = get_local_obj_tilts(pos, objp, dx, z_distance, slice_indices, blob_params, window_size=11)\n",
    "# init.init_variables['obj_tilts'] = obj_tilts"
   ]
  },
  {
   "cell_type": "code",
   "execution_count": null,
   "metadata": {},
   "outputs": [],
   "source": [
    "pos = init.init_variables[\"crop_pos\"] + init.init_variables[\"probe_pos_shifts\"]\n",
    "plot_scan_positions(pos, figsize=(8, 8))"
   ]
  },
  {
   "cell_type": "code",
   "execution_count": null,
   "metadata": {},
   "outputs": [],
   "source": [
    "# model_params = {\n",
    "#     'obj_preblur_std'     : None, # scalar(px), None\n",
    "#     'detector_blur_std'   : None, # scalar(px), None\n",
    "#     'lr_params':{\n",
    "#         'obja'            : 5e-4,\n",
    "#         'objp'            : 5e-4,\n",
    "#         'obj_tilts'       : 0,\n",
    "#         'probe'           : 1e-4,\n",
    "#         'probe_pos_shifts': 1e-4}}\n",
    "\n",
    "model = PtychoAD(init.init_variables, model_params, device=DEVICE)\n",
    "optimizer = torch.optim.Adam(model.optimizer_params)"
   ]
  },
  {
   "cell_type": "markdown",
   "metadata": {},
   "source": [
    "## Check the forward pass"
   ]
  },
  {
   "cell_type": "code",
   "execution_count": null,
   "metadata": {},
   "outputs": [],
   "source": [
    "indices = np.random.randint(0, init.init_variables[\"N_scans\"], 2)\n",
    "dp_power = 0.5\n",
    "plot_forward_pass(model, indices, dp_power)"
   ]
  },
  {
   "cell_type": "markdown",
   "metadata": {},
   "source": [
    "## Finetune the loss params"
   ]
  },
  {
   "cell_type": "code",
   "execution_count": null,
   "metadata": {},
   "outputs": [],
   "source": [
    "# loss_params = {\n",
    "#     'loss_single': {'state': True, 'weight': 1.0, 'dp_pow': 0.5},\n",
    "#     'loss_poissn': {'state': False, 'weight': 1.0, 'dp_pow':1.0},\n",
    "#     'loss_pacbed': {'state': False, 'weight': 0.5, 'dp_pow': 0.2},\n",
    "#     'loss_sparse': {'state': True, 'weight': 0.1, 'ln_order': 1},\n",
    "#     'loss_simlar': {'state': False, 'weight': 1.0, 'obj_type':'both', 'scale_factor':[1,1,1], 'blur_std':1}\n",
    "# }\n",
    "\n",
    "indices = np.random.randint(0, init.init_variables[\"N_scans\"], 16)\n",
    "loss_fn = CombinedLoss(loss_params, device=DEVICE)\n",
    "test_loss_fn(model, indices, loss_fn)"
   ]
  },
  {
   "cell_type": "markdown",
   "metadata": {},
   "source": [
    "# Setup the iteration-wise constraint params"
   ]
  },
  {
   "cell_type": "code",
   "execution_count": null,
   "metadata": {},
   "outputs": [],
   "source": [
    "# constraint_params = {\n",
    "#     'ortho_pmode'   : {'freq': 1},\n",
    "#     'probe_mask_k'  : {'freq': None, 'radius':0.16, 'width':0.02}, # k-radius should be larger than 2*rbf/Npix to avoid cutting out the BF disk\n",
    "#     'fix_probe_int' : {'freq': 1},\n",
    "#     'obj_rblur'     : {'freq': None, 'obj_type':'both', 'kernel_size': 5, 'std':0.4}, # Ideally kernel size is odd and larger than 6std+1 so it decays to 0\n",
    "#     'obj_zblur'     : {'freq': None, 'obj_type':'both', 'kernel_size': 5, 'std':1},\n",
    "#     'kr_filter'     : {'freq': None,    'obj_type':'both', 'radius':0.15, 'width':0.05},\n",
    "#     'kz_filter'     : {'freq': 1,    'obj_type':'both', 'beta':0.3, 'alpha':1},\n",
    "#     'obja_thresh'   : {'freq': None, 'relax':0, 'thresh':[0.8**(1/15), 1.2**(1/15)]},\n",
    "#     'objp_postiv'   : {'freq': 1,    'relax':0},\n",
    "#     # 'obj_gauss_fit' : {'freq': 1, 'obj_type':'both', 'num_fp_configs':1, 'num_groups':None},\n",
    "#     'tilt_smooth'   : {'freq': None, 'std':2}\n",
    "# }\n",
    "\n",
    "constraint_fn = CombinedConstraint(constraint_params, device=DEVICE)\n",
    "\n",
    "\n",
    "# from ptyrad.utils import test_constraint_fn\n",
    "# from ptyrad.visualization import plot_sigmoid_mask\n",
    "# probe_k = np.fft.fftshift(np.abs(np.fft.fft2(np.fft.fftshift(init.init_variables['probe'], axes=(-2,-1))))[0])\n",
    "# plot_sigmoid_mask(Npix=384, relative_radius=0.16, relative_width=0.02, img = probe_k, show_circles=True)\n",
    "# constraint_fn = CombinedConstraint(constraint_params, device=DEVICE)\n",
    "# test_constraint_fn(PtychoAD(init.init_variables, model_params, device='cpu'), constraint_fn, plot_forward_pass)"
   ]
  },
  {
   "cell_type": "markdown",
   "metadata": {},
   "source": [
    "# 03. Main optimization loop"
   ]
  },
  {
   "cell_type": "code",
   "execution_count": null,
   "metadata": {},
   "outputs": [],
   "source": [
    "# recon_params = {\n",
    "#     'NITER'         : 10,\n",
    "#     'INDICES_MODE'  : 'center',  # 'full', 'center', 'sub'\n",
    "#     'BATCH_SIZE'    : 32,\n",
    "#     'GROUP_MODE'    : 'random',  # 'random', 'sparse', 'compact' # Note that 'sparse' for 256x256 scan could take more than 10 mins on CPU. PtychoShelves automatically switch to 'random' for Nscans>1e3\n",
    "#     'SAVE_ITERS'    : 10,  # scalar or None\n",
    "#     'output_dir'    : 'output/tBL-WSe2',  # Output folder and pre/postfix, note that the needed / and _ are automatically generated\n",
    "#     'prefix_date'   : True,\n",
    "#     'prefix'        : '',\n",
    "#     'postfix'       : '',\n",
    "#     'fig_list'      : ['loss', 'forward', 'probe_r_amp', 'probe_k_amp', 'probe_k_phase', 'pos']  # 'loss', 'forward', 'probe_r_amp', 'probe_k_amp', 'probe_k_phase', 'pos', 'tilt', or 'all' for all the figures\n",
    "# }\n",
    "\n",
    "NITER           = recon_params.get(\"NITER\")\n",
    "INDICES_MODE    = recon_params.get(\"INDICES_MODE\")\n",
    "BATCH_SIZE      = recon_params.get(\"BATCH_SIZE\")\n",
    "GROUP_MODE      = recon_params.get(\"GROUP_MODE\")\n",
    "SAVE_ITERS      = recon_params.get(\"SAVE_ITERS\")\n",
    "output_dir      = recon_params.get(\"output_dir\")\n",
    "prefix_date     = recon_params.get(\"prefix_date\")\n",
    "prefix          = recon_params.get(\"prefix\")\n",
    "postfix         = recon_params.get(\"postfix\")\n",
    "fig_list        = recon_params.get(\"fig_list\")\n",
    "\n",
    "pos = (model.crop_pos + model.opt_probe_pos_shifts).detach().cpu().numpy()\n",
    "probe_int = model.opt_probe[0].abs().pow(2).detach().cpu().numpy()\n",
    "dx = init.init_variables[\"dx\"]\n",
    "d_out = get_blob_size(dx, probe_int, output=\"d90\")  # d_out unit is in Ang\n",
    "\n",
    "indices = select_scan_indices(\n",
    "    init.init_variables[\"N_scan_slow\"],\n",
    "    init.init_variables[\"N_scan_fast\"],\n",
    "    subscan_slow=None,\n",
    "    subscan_fast=None,\n",
    "    mode=INDICES_MODE,\n",
    ")\n",
    "\n",
    "batches = make_batches(indices, pos, BATCH_SIZE, mode=GROUP_MODE)\n",
    "\n",
    "output_path = make_output_folder(\n",
    "    output_dir,\n",
    "    indices,\n",
    "    exp_params,\n",
    "    recon_params,\n",
    "    model,\n",
    "    constraint_params,\n",
    "    loss_params\n",
    ")\n",
    "\n",
    "fig_grouping = plot_pos_grouping(\n",
    "    pos,\n",
    "    batches,\n",
    "    circle_diameter=d_out / dx,\n",
    "    diameter_type=\"90%\",\n",
    "    dot_scale=1,\n",
    "    show_fig=True,\n",
    "    pass_fig=True,\n",
    ")\n",
    "fig_grouping.savefig(output_path + \"/summary_pos_grouping.png\")"
   ]
  },
  {
   "cell_type": "code",
   "execution_count": null,
   "metadata": {},
   "outputs": [],
   "source": [
    "loss_iters = []\n",
    "for niter in range(1, NITER + 1):\n",
    "\n",
    "    shuffle(batches)\n",
    "    batch_losses, iter_t = recon_step(\n",
    "        batches, model, optimizer, loss_fn, constraint_fn, niter\n",
    "    )\n",
    "    loss_iters.append((niter, loss_logger(batch_losses, niter, iter_t)))\n",
    "\n",
    "    ## Saving intermediate results\n",
    "    if SAVE_ITERS is not None and niter % SAVE_ITERS == 0:\n",
    "        # Note that `exp_params` stores the initial exp_params, while `model` contains the actual params that could be updated if either meas_crop or meas_resample is not None\n",
    "        save_results(\n",
    "            output_path,\n",
    "            model,\n",
    "            params,\n",
    "            loss_iters,\n",
    "            iter_t,\n",
    "            niter,\n",
    "            batch_losses,\n",
    "        )\n",
    "\n",
    "        ## Saving summary\n",
    "        plot_summary(\n",
    "            output_path,\n",
    "            model,\n",
    "            loss_iters,\n",
    "            niter,\n",
    "            indices,\n",
    "            init.init_variables,\n",
    "            fig_list=fig_list,\n",
    "            show_fig=False,\n",
    "            save_fig=True,\n",
    "        )"
   ]
  },
  {
   "cell_type": "code",
   "execution_count": null,
   "metadata": {},
   "outputs": [],
   "source": []
  }
 ],
 "metadata": {
  "kernelspec": {
   "display_name": "ptyrad",
   "language": "python",
   "name": "python3"
  },
  "language_info": {
   "codemirror_mode": {
    "name": "ipython",
    "version": 3
   },
   "file_extension": ".py",
   "mimetype": "text/x-python",
   "name": "python",
   "nbconvert_exporter": "python",
   "pygments_lexer": "ipython3",
   "version": "3.11.5"
  }
 },
 "nbformat": 4,
 "nbformat_minor": 2
}
