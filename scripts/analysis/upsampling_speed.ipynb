{
 "cells": [
  {
   "cell_type": "code",
   "execution_count": null,
   "metadata": {},
   "outputs": [],
   "source": [
    "from time import perf_counter\n",
    "\n",
    "import matplotlib.pyplot as plt\n",
    "import numpy as np\n",
    "import torch\n",
    "from torch.nn.functional import interpolate\n"
   ]
  },
  {
   "cell_type": "code",
   "execution_count": null,
   "metadata": {},
   "outputs": [],
   "source": [
    "def time_sync():\n",
    "    torch.cuda.synchronize()\n",
    "    # t = time()\n",
    "    t = perf_counter()\n",
    "    return t"
   ]
  },
  {
   "cell_type": "code",
   "execution_count": null,
   "metadata": {},
   "outputs": [],
   "source": [
    "## Measure time using time_sync with time.perf_counter\n",
    "\n",
    "Npix = 128\n",
    "batch_size = 32\n",
    "scale_factor = (1,3,3)\n",
    "Niter = 10000\n",
    "\n",
    "times = []\n",
    "for i in range(Niter):\n",
    "    measurements = torch.rand(size=(1,1,batch_size,Npix,Npix), dtype=torch.float32, device='cuda')\n",
    "    \n",
    "    t0 = time_sync()    \n",
    "    measurements_up = interpolate(measurements, scale_factor = scale_factor, mode = 'area')\n",
    "    t1 = time_sync()    \n",
    "    times.append(t1-t0)\n",
    "        \n",
    "print(f\"measurements.shape = {measurements.shape}\")\n",
    "print(f\"measurements_up.shape = {measurements_up.shape}\")\n",
    "print(f\"min = {np.min(times):.3g}, mean = {np.mean(times):.3g}, max = {np.max(times):.3g}, std = {np.std(times):.3g}\")\n",
    "\n",
    "plt.figure()\n",
    "plt.hist(times, bins=20)\n",
    "plt.show()"
   ]
  },
  {
   "cell_type": "code",
   "execution_count": null,
   "metadata": {},
   "outputs": [],
   "source": [
    "## Measure time using torch.cuda.Event\n",
    "\n",
    "Npix = 1024\n",
    "batch_size = 32\n",
    "scale_factor = (1,3,3)\n",
    "Niter = 10000\n",
    "\n",
    "times = []\n",
    "for i in range(Niter):\n",
    "    measurements = torch.rand(size=(1,1,batch_size,Npix,Npix), dtype=torch.float32, device='cuda')\n",
    "    \n",
    "    # Timing using CUDA events, this is more accurate for fast events than time_sync, beacuse time.time() is ~ 15ms resolution on Windows\n",
    "    start_event = torch.cuda.Event(enable_timing=True)\n",
    "    end_event = torch.cuda.Event(enable_timing=True)\n",
    "    \n",
    "    start_event.record()\n",
    "    measurements_up = interpolate(measurements, scale_factor = scale_factor, mode = 'area')\n",
    "    end_event.record()\n",
    "    \n",
    "    # Wait for the events to complete\n",
    "    torch.cuda.synchronize()\n",
    "    times.append(start_event.elapsed_time(end_event)/1000) # cuda.Event's unit is ms\n",
    "        \n",
    "print(f\"measurements.shape = {measurements.shape}\")\n",
    "print(f\"measurements_up.shape = {measurements_up.shape}\")\n",
    "print(f\"min = {np.min(times):.3g}, mean = {np.mean(times):.3g}, max = {np.max(times):.3g}, std = {np.std(times):.3g}\")\n",
    "\n",
    "plt.figure()\n",
    "plt.hist(times, bins=20)\n",
    "plt.show()"
   ]
  }
 ],
 "metadata": {
  "kernelspec": {
   "display_name": "ptyrad",
   "language": "python",
   "name": "python3"
  },
  "language_info": {
   "codemirror_mode": {
    "name": "ipython",
    "version": 3
   },
   "file_extension": ".py",
   "mimetype": "text/x-python",
   "name": "python",
   "nbconvert_exporter": "python",
   "pygments_lexer": "ipython3",
   "version": "3.11.5"
  }
 },
 "nbformat": 4,
 "nbformat_minor": 2
}
