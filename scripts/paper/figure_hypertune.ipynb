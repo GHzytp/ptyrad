{
 "cells": [
  {
   "cell_type": "code",
   "execution_count": null,
   "metadata": {},
   "outputs": [],
   "source": [
    "import optuna\n",
    "import numpy as np\n",
    "import matplotlib.pyplot as plt\n",
    "import os\n",
    "work_dir = \"H:\\workspace\\ptyrad\"\n",
    "os.chdir(work_dir)\n",
    "print(\"Current working dir: \", os.getcwd())"
   ]
  },
  {
   "cell_type": "code",
   "execution_count": null,
   "metadata": {},
   "outputs": [],
   "source": [
    "import torch"
   ]
  },
  {
   "cell_type": "code",
   "execution_count": null,
   "metadata": {},
   "outputs": [],
   "source": [
    "main_folder = 'H:/workspace\\ptyrad\\output\\paper/tBL_WSe2/20241201_hypertune_GridSampler_benchmark_1slice/'\n",
    "subdir = 't0021_full_N16384_dp128_flipT100_random128_p1_1obj_1slice_Adam_plr1e-4_oalr5e-4_oplr5e-4_slr5e-4_orblur0.2_ozblur1_oathr0.98_opos_sng1.0_spr0.1/'\n",
    "model_path = main_folder + subdir + 'model_iter0200.pt'\n",
    "model = torch.load(model_path)"
   ]
  },
  {
   "cell_type": "code",
   "execution_count": null,
   "metadata": {},
   "outputs": [],
   "source": [
    "np.mean(model['iter_times'])"
   ]
  },
  {
   "cell_type": "code",
   "execution_count": null,
   "metadata": {},
   "outputs": [],
   "source": [
    "np.std(model['iter_times'])"
   ]
  },
  {
   "cell_type": "code",
   "execution_count": null,
   "metadata": {},
   "outputs": [],
   "source": [
    "# You can use Matplotlib instead of Plotly for visualization by simply replacing `optuna.visualization` with\n",
    "# `optuna.visualization.matplotlib` in the following examples.\n",
    "# from optuna.visualization.matplotlib import plot_contour\n",
    "# from optuna.visualization.matplotlib import plot_edf\n",
    "# from optuna.visualization.matplotlib import plot_intermediate_values\n",
    "# from optuna.visualization.matplotlib import plot_optimization_history\n",
    "# from optuna.visualization.matplotlib import plot_parallel_coordinate\n",
    "# from optuna.visualization.matplotlib import plot_param_importances\n",
    "# from optuna.visualization.matplotlib import plot_rank\n",
    "# from optuna.visualization.matplotlib import plot_slice\n",
    "# from optuna.visualization.matplotlib import plot_timeline\n",
    "\n",
    "from optuna.visualization import plot_contour\n",
    "from optuna.visualization import plot_edf\n",
    "from optuna.visualization import plot_intermediate_values\n",
    "from optuna.visualization import plot_optimization_history\n",
    "from optuna.visualization import plot_parallel_coordinate\n",
    "from optuna.visualization import plot_param_importances\n",
    "from optuna.visualization import plot_rank\n",
    "from optuna.visualization import plot_slice\n",
    "from optuna.visualization import plot_timeline"
   ]
  },
  {
   "cell_type": "code",
   "execution_count": null,
   "metadata": {},
   "outputs": [],
   "source": [
    "storage_path = \"sqlite:///hypertune.sqlite3\"\n",
    "study_names = optuna.study.get_all_study_names(storage=storage_path)\n",
    "print(f\"study_names = {study_names}\")\n",
    "studies = {name: optuna.load_study(study_name=name, storage=storage_path) for name in study_names}"
   ]
  },
  {
   "cell_type": "code",
   "execution_count": null,
   "metadata": {},
   "outputs": [],
   "source": [
    "# https://optuna.readthedocs.io/en/stable/reference/generated/optuna.importance.PedAnovaImportanceEvaluator.html\n",
    "# The importance can be interpreted as how important each hyperparameter is to get the performance better than baseline.\n",
    "# If evaluate on local, the importances imply how importance each parameter is during optimization. Meanwhile, evaluate_on_local=False gives the importances in the specified search_space.\n",
    "study = studies['optimization_tBL_WSe2_random']\n",
    "evaluator = optuna.importance.PedAnovaImportanceEvaluator(baseline_quantile=0.05, evaluate_on_local=True)\n",
    "plot_param_importances(study, evaluator=evaluator)\n",
    "plot_contour(study)\n",
    "plot_intermediate_values(study)\n",
    "plot_optimization_history(study)\n",
    "plot_parallel_coordinate(study)"
   ]
  }
 ],
 "metadata": {
  "kernelspec": {
   "display_name": "cornell",
   "language": "python",
   "name": "python3"
  },
  "language_info": {
   "codemirror_mode": {
    "name": "ipython",
    "version": 3
   },
   "file_extension": ".py",
   "mimetype": "text/x-python",
   "name": "python",
   "nbconvert_exporter": "python",
   "pygments_lexer": "ipython3",
   "version": "3.11.5"
  }
 },
 "nbformat": 4,
 "nbformat_minor": 2
}
