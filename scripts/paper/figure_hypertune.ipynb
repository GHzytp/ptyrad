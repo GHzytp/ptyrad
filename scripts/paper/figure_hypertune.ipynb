{
 "cells": [
  {
   "cell_type": "code",
   "execution_count": null,
   "metadata": {},
   "outputs": [],
   "source": [
    "import optuna\n",
    "import numpy as np\n",
    "import matplotlib.pyplot as plt\n",
    "import os\n",
    "work_dir = \"H:\\workspace\\ptyrad\"\n",
    "os.chdir(work_dir)\n",
    "print(\"Current working dir: \", os.getcwd())"
   ]
  },
  {
   "cell_type": "code",
   "execution_count": null,
   "metadata": {},
   "outputs": [],
   "source": [
    "# You can use Matplotlib instead of Plotly for visualization by simply replacing `optuna.visualization` with\n",
    "# `optuna.visualization.matplotlib` in the following examples.\n",
    "# from optuna.visualization.matplotlib import plot_contour\n",
    "# from optuna.visualization.matplotlib import plot_edf\n",
    "# from optuna.visualization.matplotlib import plot_intermediate_values\n",
    "# from optuna.visualization.matplotlib import plot_optimization_history\n",
    "# from optuna.visualization.matplotlib import plot_parallel_coordinate\n",
    "# from optuna.visualization.matplotlib import plot_param_importances\n",
    "# from optuna.visualization.matplotlib import plot_rank\n",
    "# from optuna.visualization.matplotlib import plot_slice\n",
    "# from optuna.visualization.matplotlib import plot_timeline\n",
    "\n",
    "# from optuna.visualization import plot_contour\n",
    "# from optuna.visualization import plot_edf\n",
    "# from optuna.visualization import plot_intermediate_values\n",
    "from optuna.visualization import plot_optimization_history\n",
    "# from optuna.visualization import plot_parallel_coordinate\n",
    "from optuna.visualization import plot_param_importances\n",
    "# from optuna.visualization import plot_rank\n",
    "# from optuna.visualization import plot_slice\n",
    "# from optuna.visualization import plot_timeline"
   ]
  },
  {
   "cell_type": "code",
   "execution_count": null,
   "metadata": {},
   "outputs": [],
   "source": [
    "studies_random = [optuna.load_study(study_name=f'study_{str(idx).zfill(2)}', storage='sqlite:///hypertune_optuna_ZSM5_random.sqlite3') for idx in range(1)]\n",
    "fig_random = plot_optimization_history(studies_random, error_bar=True)\n",
    "\n",
    "# studies_random_prune = [optuna.load_study(study_name=f'study_{str(idx).zfill(2)}', storage='sqlite:///hypertune_optuna_tBL_WSe2_random_prune.sqlite3') for idx in range(40)]\n",
    "# fig_random_prune = plot_optimization_history(studies_random_prune, error_bar=True)\n",
    "\n",
    "studies_TPE = [optuna.load_study(study_name=f'study_{str(idx).zfill(2)}', storage='sqlite:///hypertune_optuna_ZSM5_TPE.sqlite3') for idx in range(1)]\n",
    "fig_TPE = plot_optimization_history(studies_TPE, error_bar=True)\n",
    "\n",
    "studies_TPE_prune = [optuna.load_study(study_name=f'study_{str(idx).zfill(2)}', storage='sqlite:///hypertune_optuna_ZSM5_TPE_prune.sqlite3') for idx in range(1)]\n",
    "fig_TPE_prune = plot_optimization_history(studies_TPE_prune, error_bar=True)\n"
   ]
  },
  {
   "cell_type": "code",
   "execution_count": null,
   "metadata": {},
   "outputs": [],
   "source": [
    "plot_optimization_history(studies_TPE_prune, error_bar=False)"
   ]
  },
  {
   "cell_type": "code",
   "execution_count": null,
   "metadata": {},
   "outputs": [],
   "source": [
    "offset_global=0.2420\n",
    "offset_type = 'global' # 'global', 'each'\n",
    "k = 1\n",
    "\n",
    "arrs = [np.array(fig_random.data[1]['y']),\n",
    "        # np.array(fig_random_prune.data[1]['y']),\n",
    "        np.array(fig_TPE.data[1]['y']),\n",
    "        np.array(fig_TPE_prune.data[1]['y'])\n",
    "                 ]\n",
    "\n",
    "# labels = ['random', 'random_prune', 'TPE', 'TPE_prune']\n",
    "labels = ['random', 'TPE', 'TPE_prune']\n",
    "\n",
    "plt.figure()\n",
    "\n",
    "for arr, label in zip(arrs, labels):\n",
    "    offset_each = arr.min()\n",
    "    if offset_type == 'global':\n",
    "        offset = offset_global\n",
    "    else:\n",
    "        offset = offset_each\n",
    "    plt.plot(arr[::k]-offset, label=label)\n",
    "\n",
    "# plt.yscale('log')\n",
    "\n",
    "plt.legend()\n",
    "plt.show()"
   ]
  },
  {
   "cell_type": "code",
   "execution_count": null,
   "metadata": {},
   "outputs": [],
   "source": [
    "plt.figure()\n",
    "# offset=0.24185\n",
    "plt.plot(np.array(fig_random.data[1]['y'])-offset, label='random')\n",
    "plt.plot(np.array(fig_random_prune.data[1]['y'])-offset, label='random_prune')\n",
    "plt.plot(np.array(fig_TPE.data[1]['y'])-offset, label='TPE')\n",
    "plt.plot(np.array(fig_TPE_prune.data[1]['y'])-offset, label='TPE_prune')\n",
    "plt.yscale('log')\n",
    "\n",
    "plt.legend()\n",
    "plt.show()"
   ]
  },
  {
   "cell_type": "code",
   "execution_count": null,
   "metadata": {},
   "outputs": [],
   "source": [
    "plt.figure()\n",
    "# plt.yscale('log')\n",
    "plt.plot(fig_random.data[1]['y'], label='random')\n",
    "plt.plot(fig_random_prune.data[1]['y'], label='random_prune')\n",
    "plt.plot(fig_TPE.data[1]['y'], label='TPE')\n",
    "plt.plot(fig_TPE_prune.data[1]['y'], label='TPE_prune')\n",
    "plt.legend()\n",
    "plt.show()"
   ]
  },
  {
   "cell_type": "code",
   "execution_count": null,
   "metadata": {},
   "outputs": [],
   "source": [
    "storage_path = \"sqlite:///hypertune.sqlite3\"\n",
    "study_names = optuna.study.get_all_study_names(storage=storage_path)\n",
    "print(f\"study_names = {study_names}\")\n",
    "studies = {name: optuna.load_study(study_name=name, storage=storage_path) for name in study_names}"
   ]
  },
  {
   "cell_type": "code",
   "execution_count": null,
   "metadata": {},
   "outputs": [],
   "source": [
    "study = studies['optimization_tBL_WSe2_random']"
   ]
  },
  {
   "cell_type": "code",
   "execution_count": null,
   "metadata": {},
   "outputs": [],
   "source": [
    "plotly_fig = plot_optimization_history(study)"
   ]
  },
  {
   "cell_type": "code",
   "execution_count": null,
   "metadata": {},
   "outputs": [],
   "source": [
    "plotly_fig.data"
   ]
  },
  {
   "cell_type": "code",
   "execution_count": null,
   "metadata": {},
   "outputs": [],
   "source": [
    "import matplotlib.pyplot as plt\n",
    "from optuna.visualization import plot_optimization_history\n",
    "\n",
    "plotly_fig = plot_param_importances(study, evaluator=evaluator)\n",
    "\n",
    "# Extract data from the Plotly figure\n",
    "data = plotly_fig.data[0]  # Assuming only one trace\n",
    "hyperparameters = data.y   # Hyperparameter names\n",
    "importances = data.x       # Importance values\n",
    "\n",
    "# Plot the vertical bar plot using Matplotlib\n",
    "plt.figure(figsize=(4, 3), dpi=300)  # Adjust figure size if needed\n",
    "plt.bar(hyperparameters, importances, color='C0')\n",
    "\n",
    "# Add labels and title\n",
    "plt.ylabel(\"Importance\")\n",
    "plt.title(\"Hyperparameter Importances\")\n",
    "\n",
    "# Rotate x-axis labels for readability\n",
    "# plt.xticks(ha='right')\n",
    "\n",
    "# Show the plot\n",
    "plt.tight_layout()  # Ensure layout fits well\n",
    "plt.show()\n"
   ]
  },
  {
   "cell_type": "markdown",
   "metadata": {},
   "source": [
    "## Importance panel"
   ]
  },
  {
   "cell_type": "code",
   "execution_count": null,
   "metadata": {},
   "outputs": [],
   "source": [
    "# https://optuna.readthedocs.io/en/stable/reference/generated/optuna.importance.PedAnovaImportanceEvaluator.html\n",
    "# The importance can be interpreted as how important each hyperparameter is to get the performance better than baseline.\n",
    "# If evaluate on local, the importances imply how importance each parameter is during optimization. Meanwhile, evaluate_on_local=False gives the importances in the specified search_space.\n",
    "study = studies['optimization_tBL_WSe2_random']\n",
    "evaluator = optuna.importance.PedAnovaImportanceEvaluator(baseline_quantile=0.05, evaluate_on_local=True)\n",
    "plot_param_importances(study, evaluator=evaluator)"
   ]
  },
  {
   "cell_type": "code",
   "execution_count": null,
   "metadata": {},
   "outputs": [],
   "source": [
    "import matplotlib.pyplot as plt\n",
    "from optuna.visualization import plot_param_importances\n",
    "\n",
    "plotly_fig = plot_param_importances(study, evaluator=evaluator)\n",
    "\n",
    "# Extract data from the Plotly figure\n",
    "data = plotly_fig.data[0]  # Assuming only one trace\n",
    "hyperparameters = data.y   # Hyperparameter names\n",
    "importances = data.x       # Importance values\n",
    "\n",
    "# Plot the vertical bar plot using Matplotlib\n",
    "plt.figure(figsize=(4, 3), dpi=300)  # Adjust figure size if needed\n",
    "plt.bar(hyperparameters, importances, color='C0')\n",
    "\n",
    "# Add labels and title\n",
    "plt.ylabel(\"Importance\")\n",
    "plt.title(\"Hyperparameter Importances\")\n",
    "\n",
    "# Rotate x-axis labels for readability\n",
    "# plt.xticks(ha='right')\n",
    "\n",
    "# Show the plot\n",
    "plt.tight_layout()  # Ensure layout fits well\n",
    "plt.show()\n"
   ]
  }
 ],
 "metadata": {
  "kernelspec": {
   "display_name": "cornell",
   "language": "python",
   "name": "python3"
  },
  "language_info": {
   "codemirror_mode": {
    "name": "ipython",
    "version": 3
   },
   "file_extension": ".py",
   "mimetype": "text/x-python",
   "name": "python",
   "nbconvert_exporter": "python",
   "pygments_lexer": "ipython3",
   "version": "3.11.5"
  }
 },
 "nbformat": 4,
 "nbformat_minor": 2
}
