{
 "cells": [
  {
   "cell_type": "markdown",
   "metadata": {},
   "source": [
    "# Figure - GPU comparison\n"
   ]
  },
  {
   "cell_type": "code",
   "execution_count": null,
   "metadata": {},
   "outputs": [],
   "source": [
    "import numpy as np\n",
    "import matplotlib.pyplot as plt\n",
    "import os\n",
    "work_dir = \"H:\\workspace\\ptyrad\"\n",
    "os.chdir(work_dir)\n",
    "print(\"Current working dir: \", os.getcwd())"
   ]
  },
  {
   "cell_type": "code",
   "execution_count": null,
   "metadata": {},
   "outputs": [],
   "source": [
    "import matplotlib.pyplot as plt\n",
    "import numpy as np\n",
    "import matplotlib as mpl\n",
    "mpl.rc('xtick', direction='in')\n",
    "mpl.rc('xtick.major', width=1, size=6)\n",
    "mpl.rc('xtick.minor', width=1, size=3)\n",
    "mpl.rc('ytick', direction='in')\n",
    "mpl.rc('ytick.major', width=1, size=5)\n",
    "mpl.rc('ytick.minor', width=1, size=3)\n",
    "\n",
    "# plt.rcParams['font.family'] = 'Arial' #Font for all labels\n",
    "# plt.rcParams['font.size'] = '18'\n",
    "# plt.rcParams['axes.linewidth'] = 2\n",
    "# plt.rcParams['ytick.labelsize']=18\n",
    "# plt.rcParams['xtick.labelsize']=18\n",
    "\n",
    "\n",
    "# Memory bandwidth spec are all coming from https://www.techpowerup.com/\n",
    "# Access of different GPUs are enabled by vastai https://vast.ai/, although each machine would have different CPUs and memory setup\n",
    "# The speed test is done with params/paper/ptyrad_GPU_speed_tBL_WSe2.yml (12 probe, 1 slice, batch size = 256)\n",
    "# See docs/20241219_GPU_comparison/ for raw data and more details\n",
    " \n",
    "memory_bandwidth = [0.2885, 0.4480, 0.5760, 0.7680, 0.7680, 0.9600, 1.0100]  # TB/s\n",
    "speed = [0.0912, 0.1527, 0.2314, 0.2759, 0.2660, 0.3566, 0.3813]  # iter/s\n",
    "labels = ['P5000', 'A4000', '5000 Ada', 'A5000', 'A6000', '6000 Ada', '4090'] # These are all RTX\n",
    "label_y_offset = [0.01,0.02,-0.03,-0.0165,-0.0065,0.02,-0.03] # Positive is moving down, in unit of panel height\n",
    "label_x_offset = [0.06,0.06,  0.1, -0.03,-0.03,0.05,0.05] # Positive is moving left, in unit of panel width\n",
    "\n",
    "# Linear fit\n",
    "slope, intercept = np.polyfit(memory_bandwidth, speed, 1)\n",
    "fit_line = np.array(memory_bandwidth) * slope + intercept\n",
    "\n",
    "# Plot scatter points\n",
    "plt.figure(figsize=(4, 3), dpi=300)\n",
    "plt.scatter(memory_bandwidth, speed, color='C0')\n",
    "\n",
    "# Add trend line\n",
    "plt.plot(memory_bandwidth, fit_line, linestyle=\"dotted\", color=\"black\", linewidth=1)\n",
    "\n",
    "# Adjust x and y limits with a small margin\n",
    "x_margin = 0.13 * (max(memory_bandwidth) - min(memory_bandwidth))\n",
    "y_margin = 0.15 * (max(speed) - min(speed))\n",
    "\n",
    "plt.xlim(min(memory_bandwidth) - x_margin, max(memory_bandwidth) + x_margin)\n",
    "plt.ylim(min(speed) - y_margin, max(speed) + y_margin)\n",
    "\n",
    "# Add text labels\n",
    "for i, label in enumerate(labels):\n",
    "    plt.text(memory_bandwidth[i] - label_x_offset[i], speed[i] - label_y_offset[i], label, verticalalignment='top')\n",
    "\n",
    "# Equation and R-squared value\n",
    "r_squared = np.corrcoef(memory_bandwidth, speed)[0, 1] ** 2\n",
    "eq_text = f'$y = {slope:.3f}x {intercept:.3f}$\\n$R^2 = {r_squared:.4f}$'\n",
    "plt.text(0.25, 0.34, eq_text, color='black', bbox=dict(facecolor='white', alpha=0.8))\n",
    "\n",
    "# Labels and title\n",
    "plt.xlabel(\"Memory bandwidth (TB/s)\")\n",
    "plt.ylabel(\"Reconstruction Speed (iter/s)\")\n",
    "plt.title(\"Reconstruction speed vs. memory bandwidth\", x=0.45)\n",
    "\n",
    "plt.xticks(np.linspace(0.3, 1.1, 9))\n",
    "plt.yticks(np.linspace(0.1, 0.4, 7))\n",
    "plt.xlim(0.2,1.15)\n",
    "\n",
    "\n",
    "# Show the plot\n",
    "plt.show()\n"
   ]
  },
  {
   "cell_type": "code",
   "execution_count": null,
   "metadata": {},
   "outputs": [],
   "source": []
  }
 ],
 "metadata": {
  "kernelspec": {
   "display_name": "cornell",
   "language": "python",
   "name": "python3"
  },
  "language_info": {
   "codemirror_mode": {
    "name": "ipython",
    "version": 3
   },
   "file_extension": ".py",
   "mimetype": "text/x-python",
   "name": "python",
   "nbconvert_exporter": "python",
   "pygments_lexer": "ipython3",
   "version": "3.11.5"
  }
 },
 "nbformat": 4,
 "nbformat_minor": 2
}
