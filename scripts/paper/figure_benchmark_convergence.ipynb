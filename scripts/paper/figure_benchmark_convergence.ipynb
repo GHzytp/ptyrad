{
 "cells": [
  {
   "cell_type": "code",
   "execution_count": null,
   "metadata": {},
   "outputs": [],
   "source": [
    "import torch\n",
    "\n",
    "import numpy as np\n",
    "import matplotlib.pyplot as plt\n",
    "import os\n",
    "work_dir = \"H:\\workspace\\ptyrad\"\n",
    "os.chdir(work_dir)\n",
    "print(\"Current working dir: \", os.getcwd())"
   ]
  },
  {
   "cell_type": "code",
   "execution_count": null,
   "metadata": {},
   "outputs": [],
   "source": [
    "from ptyrad.data_io import load_params\n",
    "from ptyrad.initialization import Initializer\n",
    "from ptyrad.models import PtychoAD\n",
    "from ptyrad.optimization import CombinedConstraint, CombinedLoss, create_optimizer\n",
    "from ptyrad.reconstruction import recon_step\n",
    "from ptyrad.utils import (\n",
    "    copy_params_to_dir,\n",
    "    CustomLogger,\n",
    "    get_blob_size,\n",
    "    make_batches,\n",
    "    make_output_folder,\n",
    "    parse_sec_to_time_str,\n",
    "    print_system_info,\n",
    "    save_results,\n",
    "    select_scan_indices,\n",
    "    set_gpu_device,\n",
    "    test_loss_fn,\n",
    "    time_sync,\n",
    "    vprint,\n",
    ")\n",
    "from ptyrad.visualization import (\n",
    "    plot_forward_pass,\n",
    "    plot_pos_grouping,\n",
    "    plot_scan_positions,\n",
    "    plot_summary,\n",
    ")"
   ]
  },
  {
   "cell_type": "code",
   "execution_count": null,
   "metadata": {},
   "outputs": [],
   "source": [
    "print_system_info()\n",
    "device = set_gpu_device(gpuid=0)"
   ]
  },
  {
   "cell_type": "code",
   "execution_count": null,
   "metadata": {},
   "outputs": [],
   "source": [
    "# Initialize the Initializer\n",
    "params_path = \"params/paper/ptyrad_convergence_base.yml\"\n",
    "\n",
    "params              = load_params(params_path)\n",
    "exp_params          = params['exp_params']\n",
    "source_params       = params['source_params']\n",
    "model_params        = params['model_params']\n",
    "loss_params         = params['loss_params']\n",
    "recon_params        = params['recon_params']\n",
    "\n",
    "init = Initializer(exp_params, source_params).init_all()"
   ]
  },
  {
   "cell_type": "code",
   "execution_count": null,
   "metadata": {},
   "outputs": [],
   "source": [
    "model = PtychoAD(init.init_variables, model_params, device='cuda', verbose=False)\n",
    "loss_fn = CombinedLoss(loss_params, device='cuda')\n",
    "\n",
    "np.random.seed(43)\n",
    "\n",
    "INDICES_MODE      = recon_params['INDICES_MODE']\n",
    "batch_size        = 512 #recon_params['BATCH_SIZE'].get(\"size\")\n",
    "GROUP_MODE        = recon_params['GROUP_MODE']\n",
    "\n",
    "indices = select_scan_indices(\n",
    "    init.init_variables['N_scan_slow'],\n",
    "    init.init_variables['N_scan_fast'],\n",
    "    subscan_slow=INDICES_MODE['subscan_slow'],\n",
    "    subscan_fast=INDICES_MODE['subscan_fast'],\n",
    "    mode=INDICES_MODE['mode'],\n",
    ")\n",
    "\n",
    "pos = (model.crop_pos + model.opt_probe_pos_shifts).detach().cpu().numpy() # The .to(torch.float32) upcast is a preventive solution because .numpy() doesn't support bf16\n",
    "\n",
    "batches = make_batches(indices, pos, batch_size, mode=GROUP_MODE)"
   ]
  },
  {
   "cell_type": "code",
   "execution_count": null,
   "metadata": {},
   "outputs": [],
   "source": [
    "with torch.no_grad():\n",
    "    avg_loss = 0\n",
    "    for batch in batches:\n",
    "        model_CBEDs, objp_patches = model(batch)\n",
    "        measured_CBEDs = model.get_measurements(batch)\n",
    "        _, losses = loss_fn(model_CBEDs, measured_CBEDs, objp_patches, model.omode_occu)\n",
    "        avg_loss += sum(losses).cpu().numpy()\n",
    "    avg_loss /= len(batches)\n",
    "    print(avg_loss)\n",
    "    "
   ]
  },
  {
   "cell_type": "code",
   "execution_count": null,
   "metadata": {},
   "outputs": [],
   "source": [
    "def getFilename(path, extension):\n",
    "    '''\n",
    "    This function go through the folder and return a list of filenames with given extension\n",
    "    '''\n",
    "    f_list = os.listdir(path)\n",
    "    file_list=[]\n",
    "    for i in f_list:    \n",
    "        if os.path.splitext(i)[1] == extension:\n",
    "            file_list.append(os.path.splitext(i)[0])\n",
    "    return file_list\n",
    "\n",
    "def natural_sort(lst):\n",
    "    import re\n",
    "    def natural_sort_key(s):\n",
    "        def convert(text):\n",
    "            return int(text) if text.isdigit() else text.lower()\n",
    "\n",
    "        segments = [convert(segment) for segment in re.split('([0-9]+)', s)]\n",
    "        return segments\n",
    "    return sorted(lst, key=natural_sort_key)"
   ]
  },
  {
   "cell_type": "markdown",
   "metadata": {},
   "source": [
    "Not sure why the error curve doesn't really match the record, even for ptyrad?\n",
    "\n",
    "- Seems like the recorded batch_loss is calculated before the constraints and the current plotted loss is after the constraints so there's some difference."
   ]
  },
  {
   "cell_type": "code",
   "execution_count": null,
   "metadata": {},
   "outputs": [],
   "source": [
    "from ptyrad.visualization import plot_forward_pass"
   ]
  },
  {
   "cell_type": "code",
   "execution_count": null,
   "metadata": {},
   "outputs": [],
   "source": [
    "package_dict = {\n",
    "    # 'PtyRAD':   {'path': 'output/paper/tBL_WSe2/20241211_ptyrad_convergence/full_N16384_dp128_flipT100_random16_p12_1obj_6slice_dz2_Adam_plr1e-4_oalr5e-4_oplr5e-4_slr5e-4_orblur0.2_ozblur1_oathr0.98_opos_sng1.0_spr0.1_aff1_0_-3_0/', 'extension': '.pt'},\n",
    "    'py4DSTEM': {'path': 'output/paper/tBL_WSe2/20241211_py4DSTEM_convergence/N16384_dp128_flipT100_random16_p12_6slice_dz2_update0.02_kzf1/', 'extension': '.hdf5'},\n",
    "    # 'PtyShv':   {'path': 'data/paper/tBL_WSe2/Panel_g-h_Themis/10/roi10_Ndp128_step128\\MLs_ptyrad_p12_g16_pc0_noModel_updW100_mm_Ns6_dz2_reg1_dpFlip_ud_T/', 'extension': '.mat'}\n",
    "}\n",
    "\n",
    "data_errors = np.zeros((len(package_dict),20))\n",
    "\n",
    "for i, key in enumerate(package_dict.keys()):\n",
    "    path      = package_dict[key]['path']\n",
    "    extension = package_dict[key]['extension']\n",
    "    path_list = natural_sort(getFilename(path, extension))\n",
    "    for j, ckpt in enumerate(path_list):\n",
    "        source_params['obj_source'] = key\n",
    "        source_params['pos_source'] = key\n",
    "        source_params['probe_source'] = key\n",
    "        source_params['obj_params'] = os.path.join(path, ckpt + extension)\n",
    "        source_params['pos_params'] = os.path.join(path, ckpt + extension)\n",
    "        source_params['probe_params'] = os.path.join(path, ckpt + extension)\n",
    "        init.verbose=False\n",
    "        init.init_cache()\n",
    "        init.init_probe()\n",
    "        init.init_pos()\n",
    "        init.init_obj()\n",
    "        \n",
    "        model = PtychoAD(init.init_variables, model_params, device='cuda', verbose=False)\n",
    "        # model.opt_obja.data = torch.ones_like(model.opt_objp)\n",
    "        if j == 2:\n",
    "            plot_forward_pass(model, [8224, 8288], dp_power = 0.5)\n",
    "        \n",
    "        with torch.no_grad():\n",
    "            avg_loss = 0\n",
    "            for batch in [batches[0]]: # Just evaluate on 1 batch seems to be fine as well\n",
    "                model_CBEDs, objp_patches = model(batch)\n",
    "                measured_CBEDs = model.get_measurements(batch)\n",
    "                _, losses = loss_fn(model_CBEDs, measured_CBEDs, objp_patches, model.omode_occu)\n",
    "                avg_loss += sum(losses).cpu().numpy()\n",
    "            # avg_loss /= len(batches)\n",
    "        print(f\"{key}, {ckpt+extension}, data error: {avg_loss}\")\n",
    "        data_errors[i,j] = avg_loss"
   ]
  },
  {
   "cell_type": "code",
   "execution_count": null,
   "metadata": {},
   "outputs": [],
   "source": [
    "iter_idx = np.arange(10,210,10)\n",
    "import matplotlib.pyplot as plt\n",
    "plt.figure()\n",
    "plt.scatter(iter_idx, data_errors[0])\n",
    "# plt.scatter(iter_idx, data_errors[1])\n",
    "# plt.scatter(iter_idx, data_errors[2])\n",
    "\n",
    "plt.show()"
   ]
  }
 ],
 "metadata": {
  "kernelspec": {
   "display_name": "cornell",
   "language": "python",
   "name": "python3"
  },
  "language_info": {
   "codemirror_mode": {
    "name": "ipython",
    "version": 3
   },
   "file_extension": ".py",
   "mimetype": "text/x-python",
   "name": "python",
   "nbconvert_exporter": "python",
   "pygments_lexer": "ipython3",
   "version": "3.11.5"
  }
 },
 "nbformat": 4,
 "nbformat_minor": 2
}
