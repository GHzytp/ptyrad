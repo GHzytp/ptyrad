{
 "cells": [
  {
   "cell_type": "code",
   "execution_count": 1,
   "metadata": {},
   "outputs": [],
   "source": [
    "import numpy as np\n",
    "import matplotlib.pyplot as plt\n",
    "from tifffile import imread\n",
    "%matplotlib qt \n",
    "import hyperspy.api as hs"
   ]
  },
  {
   "cell_type": "code",
   "execution_count": 3,
   "metadata": {},
   "outputs": [
    {
     "data": {
      "text/plain": [
       "(392, 403)"
      ]
     },
     "execution_count": 3,
     "metadata": {},
     "output_type": "execute_result"
    }
   ],
   "source": [
    "img_path = \"H:/workspace/p01_code/deep_ptycho/ptyrad/output/CNS/20240610_full_N7134_dp164_random32_p2_1obj_1slice_plr5e-4_oalr5e-4_oplr5e-4_slr5e-4_tlr0_opos_sng1.0_spr0.1/objp_iter0100.tif\"\n",
    "#img_path = \"H:/workspace/p01_code/deep_ptycho/ptyrad/output/multi_obj/full_N9494_dp180_sparse64_p2_plr5e-4_olr5e-4_slr5e-4_4obj_1slice/objp_ostack_iter0050.tif\"\n",
    "# img_path = \"output/multi_obj_WSe2_and_Cu_4obj_1slice_1e-3_dppow0.5_b64/objp_iter0100.tif\"\n",
    "#img_path = \"output/CNS_1obj_1slice_1e-3_revisit/objp_iter0500_5e-4_dppow0.5.tif\"\n",
    "#img_path = \"output/CNS_32obj_1slice_5e-4_revisit/objp_iter0500.tif\"\n",
    "#img_path = \"output/abtem/potential_256_phonon_0.1_std_zsum_dx0.08Ang.tif\"\n",
    "img = imread(img_path)\n",
    "img.shape"
   ]
  },
  {
   "cell_type": "code",
   "execution_count": 5,
   "metadata": {},
   "outputs": [
    {
     "ename": "TypeError",
     "evalue": "Invalid shape (144,) for image data",
     "output_type": "error",
     "traceback": [
      "\u001b[1;31m---------------------------------------------------------------------------\u001b[0m",
      "\u001b[1;31mTypeError\u001b[0m                                 Traceback (most recent call last)",
      "Cell \u001b[1;32mIn[5], line 8\u001b[0m\n\u001b[0;32m      5\u001b[0m img_crop \u001b[38;5;241m=\u001b[39m img[\u001b[38;5;241m202\u001b[39m\u001b[38;5;241m-\u001b[39mwindow\u001b[38;5;241m/\u001b[39m\u001b[38;5;241m/\u001b[39m\u001b[38;5;241m2\u001b[39m:\u001b[38;5;241m202\u001b[39m\u001b[38;5;241m+\u001b[39mwindow\u001b[38;5;241m/\u001b[39m\u001b[38;5;241m/\u001b[39m\u001b[38;5;241m2\u001b[39m, \u001b[38;5;241m201\u001b[39m\u001b[38;5;241m-\u001b[39mwindow\u001b[38;5;241m/\u001b[39m\u001b[38;5;241m/\u001b[39m\u001b[38;5;241m2\u001b[39m:\u001b[38;5;241m201\u001b[39m\u001b[38;5;241m+\u001b[39mwindow\u001b[38;5;241m/\u001b[39m\u001b[38;5;241m/\u001b[39m\u001b[38;5;241m2\u001b[39m]\n\u001b[0;32m      7\u001b[0m fig, axs \u001b[38;5;241m=\u001b[39m plt\u001b[38;5;241m.\u001b[39msubplots(\u001b[38;5;241m1\u001b[39m,\u001b[38;5;241m2\u001b[39m)\n\u001b[1;32m----> 8\u001b[0m im00 \u001b[38;5;241m=\u001b[39m axs[\u001b[38;5;241m0\u001b[39m]\u001b[38;5;241m.\u001b[39mimshow(np\u001b[38;5;241m.\u001b[39mmean(img_crop, \u001b[38;5;241m0\u001b[39m))\n\u001b[0;32m      9\u001b[0m fig\u001b[38;5;241m.\u001b[39mcolorbar(im00, shrink\u001b[38;5;241m=\u001b[39m\u001b[38;5;241m0.6\u001b[39m)\n\u001b[0;32m     10\u001b[0m axs[\u001b[38;5;241m0\u001b[39m]\u001b[38;5;241m.\u001b[39mset_title(\u001b[38;5;124mf\u001b[39m\u001b[38;5;124m'\u001b[39m\u001b[38;5;124mMean image (N=\u001b[39m\u001b[38;5;132;01m{\u001b[39;00m\u001b[38;5;28mlen\u001b[39m(img_crop)\u001b[38;5;132;01m}\u001b[39;00m\u001b[38;5;124m)\u001b[39m\u001b[38;5;124m'\u001b[39m)\n",
      "File \u001b[1;32mc:\\Users\\chiahao3\\anaconda3\\envs\\hyperspy\\Lib\\site-packages\\matplotlib\\__init__.py:1465\u001b[0m, in \u001b[0;36m_preprocess_data.<locals>.inner\u001b[1;34m(ax, data, *args, **kwargs)\u001b[0m\n\u001b[0;32m   1462\u001b[0m \u001b[38;5;129m@functools\u001b[39m\u001b[38;5;241m.\u001b[39mwraps(func)\n\u001b[0;32m   1463\u001b[0m \u001b[38;5;28;01mdef\u001b[39;00m \u001b[38;5;21minner\u001b[39m(ax, \u001b[38;5;241m*\u001b[39margs, data\u001b[38;5;241m=\u001b[39m\u001b[38;5;28;01mNone\u001b[39;00m, \u001b[38;5;241m*\u001b[39m\u001b[38;5;241m*\u001b[39mkwargs):\n\u001b[0;32m   1464\u001b[0m     \u001b[38;5;28;01mif\u001b[39;00m data \u001b[38;5;129;01mis\u001b[39;00m \u001b[38;5;28;01mNone\u001b[39;00m:\n\u001b[1;32m-> 1465\u001b[0m         \u001b[38;5;28;01mreturn\u001b[39;00m func(ax, \u001b[38;5;241m*\u001b[39m\u001b[38;5;28mmap\u001b[39m(sanitize_sequence, args), \u001b[38;5;241m*\u001b[39m\u001b[38;5;241m*\u001b[39mkwargs)\n\u001b[0;32m   1467\u001b[0m     bound \u001b[38;5;241m=\u001b[39m new_sig\u001b[38;5;241m.\u001b[39mbind(ax, \u001b[38;5;241m*\u001b[39margs, \u001b[38;5;241m*\u001b[39m\u001b[38;5;241m*\u001b[39mkwargs)\n\u001b[0;32m   1468\u001b[0m     auto_label \u001b[38;5;241m=\u001b[39m (bound\u001b[38;5;241m.\u001b[39marguments\u001b[38;5;241m.\u001b[39mget(label_namer)\n\u001b[0;32m   1469\u001b[0m                   \u001b[38;5;129;01mor\u001b[39;00m bound\u001b[38;5;241m.\u001b[39mkwargs\u001b[38;5;241m.\u001b[39mget(label_namer))\n",
      "File \u001b[1;32mc:\\Users\\chiahao3\\anaconda3\\envs\\hyperspy\\Lib\\site-packages\\matplotlib\\axes\\_axes.py:5759\u001b[0m, in \u001b[0;36mAxes.imshow\u001b[1;34m(self, X, cmap, norm, aspect, interpolation, alpha, vmin, vmax, origin, extent, interpolation_stage, filternorm, filterrad, resample, url, **kwargs)\u001b[0m\n\u001b[0;32m   5756\u001b[0m \u001b[38;5;28;01mif\u001b[39;00m aspect \u001b[38;5;129;01mis\u001b[39;00m \u001b[38;5;129;01mnot\u001b[39;00m \u001b[38;5;28;01mNone\u001b[39;00m:\n\u001b[0;32m   5757\u001b[0m     \u001b[38;5;28mself\u001b[39m\u001b[38;5;241m.\u001b[39mset_aspect(aspect)\n\u001b[1;32m-> 5759\u001b[0m im\u001b[38;5;241m.\u001b[39mset_data(X)\n\u001b[0;32m   5760\u001b[0m im\u001b[38;5;241m.\u001b[39mset_alpha(alpha)\n\u001b[0;32m   5761\u001b[0m \u001b[38;5;28;01mif\u001b[39;00m im\u001b[38;5;241m.\u001b[39mget_clip_path() \u001b[38;5;129;01mis\u001b[39;00m \u001b[38;5;28;01mNone\u001b[39;00m:\n\u001b[0;32m   5762\u001b[0m     \u001b[38;5;66;03m# image does not already have clipping set, clip to axes patch\u001b[39;00m\n",
      "File \u001b[1;32mc:\\Users\\chiahao3\\anaconda3\\envs\\hyperspy\\Lib\\site-packages\\matplotlib\\image.py:723\u001b[0m, in \u001b[0;36m_ImageBase.set_data\u001b[1;34m(self, A)\u001b[0m\n\u001b[0;32m    721\u001b[0m \u001b[38;5;28;01mif\u001b[39;00m \u001b[38;5;28misinstance\u001b[39m(A, PIL\u001b[38;5;241m.\u001b[39mImage\u001b[38;5;241m.\u001b[39mImage):\n\u001b[0;32m    722\u001b[0m     A \u001b[38;5;241m=\u001b[39m pil_to_array(A)  \u001b[38;5;66;03m# Needed e.g. to apply png palette.\u001b[39;00m\n\u001b[1;32m--> 723\u001b[0m \u001b[38;5;28mself\u001b[39m\u001b[38;5;241m.\u001b[39m_A \u001b[38;5;241m=\u001b[39m \u001b[38;5;28mself\u001b[39m\u001b[38;5;241m.\u001b[39m_normalize_image_array(A)\n\u001b[0;32m    724\u001b[0m \u001b[38;5;28mself\u001b[39m\u001b[38;5;241m.\u001b[39m_imcache \u001b[38;5;241m=\u001b[39m \u001b[38;5;28;01mNone\u001b[39;00m\n\u001b[0;32m    725\u001b[0m \u001b[38;5;28mself\u001b[39m\u001b[38;5;241m.\u001b[39mstale \u001b[38;5;241m=\u001b[39m \u001b[38;5;28;01mTrue\u001b[39;00m\n",
      "File \u001b[1;32mc:\\Users\\chiahao3\\anaconda3\\envs\\hyperspy\\Lib\\site-packages\\matplotlib\\image.py:693\u001b[0m, in \u001b[0;36m_ImageBase._normalize_image_array\u001b[1;34m(A)\u001b[0m\n\u001b[0;32m    691\u001b[0m     A \u001b[38;5;241m=\u001b[39m A\u001b[38;5;241m.\u001b[39msqueeze(\u001b[38;5;241m-\u001b[39m\u001b[38;5;241m1\u001b[39m)  \u001b[38;5;66;03m# If just (M, N, 1), assume scalar and apply colormap.\u001b[39;00m\n\u001b[0;32m    692\u001b[0m \u001b[38;5;28;01mif\u001b[39;00m \u001b[38;5;129;01mnot\u001b[39;00m (A\u001b[38;5;241m.\u001b[39mndim \u001b[38;5;241m==\u001b[39m \u001b[38;5;241m2\u001b[39m \u001b[38;5;129;01mor\u001b[39;00m A\u001b[38;5;241m.\u001b[39mndim \u001b[38;5;241m==\u001b[39m \u001b[38;5;241m3\u001b[39m \u001b[38;5;129;01mand\u001b[39;00m A\u001b[38;5;241m.\u001b[39mshape[\u001b[38;5;241m-\u001b[39m\u001b[38;5;241m1\u001b[39m] \u001b[38;5;129;01min\u001b[39;00m [\u001b[38;5;241m3\u001b[39m, \u001b[38;5;241m4\u001b[39m]):\n\u001b[1;32m--> 693\u001b[0m     \u001b[38;5;28;01mraise\u001b[39;00m \u001b[38;5;167;01mTypeError\u001b[39;00m(\u001b[38;5;124mf\u001b[39m\u001b[38;5;124m\"\u001b[39m\u001b[38;5;124mInvalid shape \u001b[39m\u001b[38;5;132;01m{\u001b[39;00mA\u001b[38;5;241m.\u001b[39mshape\u001b[38;5;132;01m}\u001b[39;00m\u001b[38;5;124m for image data\u001b[39m\u001b[38;5;124m\"\u001b[39m)\n\u001b[0;32m    694\u001b[0m \u001b[38;5;28;01mif\u001b[39;00m A\u001b[38;5;241m.\u001b[39mndim \u001b[38;5;241m==\u001b[39m \u001b[38;5;241m3\u001b[39m:\n\u001b[0;32m    695\u001b[0m     \u001b[38;5;66;03m# If the input data has values outside the valid range (after\u001b[39;00m\n\u001b[0;32m    696\u001b[0m     \u001b[38;5;66;03m# normalisation), we issue a warning and then clip X to the bounds\u001b[39;00m\n\u001b[0;32m    697\u001b[0m     \u001b[38;5;66;03m# - otherwise casting wraps extreme values, hiding outliers and\u001b[39;00m\n\u001b[0;32m    698\u001b[0m     \u001b[38;5;66;03m# making reliable interpretation impossible.\u001b[39;00m\n\u001b[0;32m    699\u001b[0m     high \u001b[38;5;241m=\u001b[39m \u001b[38;5;241m255\u001b[39m \u001b[38;5;28;01mif\u001b[39;00m np\u001b[38;5;241m.\u001b[39missubdtype(A\u001b[38;5;241m.\u001b[39mdtype, np\u001b[38;5;241m.\u001b[39minteger) \u001b[38;5;28;01melse\u001b[39;00m \u001b[38;5;241m1\u001b[39m\n",
      "\u001b[1;31mTypeError\u001b[0m: Invalid shape (144,) for image data"
     ]
    }
   ],
   "source": [
    "# window = 144\n",
    "# img_crop = img[:,202-window//2:202+window//2, 201-window//2:201+window//2]\n",
    "\n",
    "window = 144\n",
    "img_crop = img[202-window//2:202+window//2, 201-window//2:201+window//2]\n",
    "\n",
    "fig, axs = plt.subplots(1,2)\n",
    "im00 = axs[0].imshow(np.mean(img_crop, 0))\n",
    "fig.colorbar(im00, shrink=0.6)\n",
    "axs[0].set_title(f'Mean image (N={len(img_crop)})')\n",
    "im01 = axs[1].imshow(np.std(img_crop,0))\n",
    "fig.colorbar(im01, shrink=0.6)\n",
    "axs[1].set_title(f'Std image (N={len(img_crop)})')\n",
    "\n",
    "plt.show()"
   ]
  },
  {
   "cell_type": "markdown",
   "metadata": {},
   "source": [
    "# Atomap fitting / model"
   ]
  },
  {
   "cell_type": "code",
   "execution_count": 6,
   "metadata": {},
   "outputs": [
    {
     "ename": "ModuleNotFoundError",
     "evalue": "No module named 'atomap'",
     "output_type": "error",
     "traceback": [
      "\u001b[1;31m---------------------------------------------------------------------------\u001b[0m",
      "\u001b[1;31mModuleNotFoundError\u001b[0m                       Traceback (most recent call last)",
      "Cell \u001b[1;32mIn[6], line 1\u001b[0m\n\u001b[1;32m----> 1\u001b[0m \u001b[38;5;28;01mimport\u001b[39;00m \u001b[38;5;21;01matomap\u001b[39;00m\u001b[38;5;21;01m.\u001b[39;00m\u001b[38;5;21;01mapi\u001b[39;00m \u001b[38;5;28;01mas\u001b[39;00m \u001b[38;5;21;01mam\u001b[39;00m\n\u001b[0;32m      3\u001b[0m s \u001b[38;5;241m=\u001b[39m hs\u001b[38;5;241m.\u001b[39msignals\u001b[38;5;241m.\u001b[39mSignal2D(img)\n\u001b[0;32m      4\u001b[0m s_peaks \u001b[38;5;241m=\u001b[39m am\u001b[38;5;241m.\u001b[39mget_feature_separation(s, separation_range\u001b[38;5;241m=\u001b[39m(\u001b[38;5;241m5\u001b[39m, \u001b[38;5;241m7\u001b[39m), show_progressbar\u001b[38;5;241m=\u001b[39m\u001b[38;5;28;01mFalse\u001b[39;00m)\n",
      "\u001b[1;31mModuleNotFoundError\u001b[0m: No module named 'atomap'"
     ]
    }
   ],
   "source": [
    "import atomap.api as am\n",
    "\n",
    "s = hs.signals.Signal2D(img)\n",
    "s_peaks = am.get_feature_separation(s, separation_range=(5, 7), show_progressbar=False)\n",
    "s_peaks.plot()"
   ]
  },
  {
   "cell_type": "code",
   "execution_count": null,
   "metadata": {},
   "outputs": [],
   "source": [
    "atom_positions = am.get_atom_positions(s, separation=6)\n",
    "sublattice = am.Sublattice(atom_positions, image=s.data)\n",
    "\n",
    "sublattice.find_nearest_neighbors()\n",
    "sublattice.refine_atom_positions_using_center_of_mass()\n",
    "sublattice.refine_atom_positions_using_2d_gaussian(mask_radius=4)\n",
    "\n",
    "model_image = sublattice.get_model_image()\n",
    "s.plot(title='Data')\n",
    "model_image.plot(title='Model')\n",
    "(s-model_image).plot(title='Difference', cmap='seismic', vmin=-0.2, vmax=0.2)"
   ]
  },
  {
   "cell_type": "code",
   "execution_count": null,
   "metadata": {},
   "outputs": [],
   "source": [
    "plt.figure()\n",
    "plt.hist(sublattice.atom_amplitude_gaussian2d.ravel(), bins=100)\n",
    "plt.show()"
   ]
  },
  {
   "cell_type": "code",
   "execution_count": null,
   "metadata": {},
   "outputs": [],
   "source": [
    "import numpy as np\n",
    "import matplotlib.pyplot as plt\n",
    "\n",
    "\n",
    "def generate_gaussian(A, x, y, sx, sy, rotation, size):\n",
    "    # Generate a grid of coordinates\n",
    "    xx, yy = np.meshgrid(np.arange(size[1]), np.arange(size[0]))\n",
    "\n",
    "    # Rotation parameters\n",
    "    x0 = x\n",
    "    y0 = y\n",
    "    theta = rotation \n",
    "\n",
    "    # Calculate terms used in the Gaussian function\n",
    "    sx2 = sx ** 2\n",
    "    sy2 = sy ** 2\n",
    "    cos_theta2 = np.cos(theta) ** 2\n",
    "    sin_theta2 = np.sin(theta) ** 2\n",
    "    sin_2theta = np.sin(2 * theta)\n",
    "\n",
    "    a = cos_theta2 / (2 * sx2) + sin_theta2 / (2 * sy2)\n",
    "    b = -sin_2theta / (4 * sx2) + sin_2theta / (4 * sy2)\n",
    "    c = sin_theta2 / (2 * sx2) + cos_theta2 / (2 * sy2)\n",
    "\n",
    "    # Apply rotation and generate Gaussian blob\n",
    "    x_rot = xx - x0\n",
    "    y_rot = yy - y0\n",
    "    gaussian_blob = (\n",
    "        A\n",
    "        * (1 / (sx * sy * (2 * np.pi)))\n",
    "        * np.exp(-(\n",
    "            a * (x_rot ** 2) + \n",
    "            2 * b * (x_rot * y_rot) + \n",
    "            c * (y_rot ** 2)\n",
    "        ))\n",
    "    )\n",
    "\n",
    "    return gaussian_blob\n",
    "\n",
    "def generate_canvas(gaussian_params, canvas_size):\n",
    "    canvas = np.zeros(canvas_size)\n",
    "    for params in gaussian_params:\n",
    "        A, x, y, sx, sy, rotation = params\n",
    "        gaussian_blob = generate_gaussian(A, x, y, sx, sy, rotation, canvas_size)\n",
    "        canvas += gaussian_blob\n",
    "    return canvas\n",
    "\n",
    "canvas_size = s.data.shape\n",
    "\n",
    "shift_vec = np.zeros((len(sublattice.atom_list),2)) # np.random.normal(0, 1, size=(len(sublattice.atom_list), 2))\n",
    "target_indices = np.where(sublattice.atom_amplitude_gaussian2d<7.5)[0]\n",
    "shift_vec[target_indices] = np.random.normal(0, 1.66, size=(len(target_indices), 2))\n",
    "\n",
    "sigma_shrink = np.ones(len(sublattice.atom_list))\n",
    "sigma_shrink[target_indices] = 0.5\n",
    "\n",
    "# Example Gaussian parameters (x, y, sx, sy, rotation)\n",
    "gaussian_params = [(sublattice.atom_amplitude_gaussian2d[i],\n",
    "                    sublattice.x_position[i] ,\n",
    "                    sublattice.y_position[i] + shift_vec[i,0],\n",
    "                    sublattice.sigma_x[i] * sigma_shrink[i],\n",
    "                    sublattice.sigma_y[i] * sigma_shrink[i],\n",
    "                    sublattice.rotation[i]) for i in range(len(sublattice.atom_list))]\n",
    "\n",
    "\n",
    "\n",
    "# Generate canvas with Gaussian blobs\n",
    "perturbed_model = generate_canvas(gaussian_params, canvas_size)\n",
    "\n",
    "# Plot canvas with Gaussian blobs\n",
    "plt.figure(figsize=(8, 6))\n",
    "plt.imshow(model_image, cmap='gray')\n",
    "plt.title('Model')\n",
    "plt.colorbar()\n",
    "plt.axis('off')\n",
    "plt.show()\n",
    "\n",
    "plt.figure(figsize=(8, 6))\n",
    "plt.imshow(perturbed_model, cmap='gray')\n",
    "plt.title('perturbed_model')\n",
    "plt.colorbar()\n",
    "plt.axis('off')\n",
    "plt.show()\n",
    "\n",
    "plt.figure(figsize=(8, 6))\n",
    "plt.title(\"Model - perturbed model\")\n",
    "plt.imshow(model_image - perturbed_model, cmap='seismic', vmin=-0.2, vmax=0.2)\n",
    "plt.colorbar()\n",
    "plt.axis('off')\n",
    "plt.show()\n"
   ]
  },
  {
   "cell_type": "code",
   "execution_count": null,
   "metadata": {},
   "outputs": [],
   "source": [
    "# Generate an image stack\n",
    "\n",
    "omode = 64\n",
    "imstack = np.zeros((omode,1,391,403), dtype='float32')\n",
    "target_indices = np.where(sublattice.atom_amplitude_gaussian2d<7.5)[0]\n",
    "sigma_shrink = np.ones(len(sublattice.atom_list))\n",
    "sigma_shrink[target_indices] = 0.5\n",
    "\n",
    "# Prepopulate the gaussian_params\n",
    "gaussian_params = np.zeros((len(sublattice.atom_list), 6))\n",
    "\n",
    "for i in range(len(sublattice.atom_list)):\n",
    "    gaussian_params[i] = (sublattice.atom_amplitude_gaussian2d[i],\n",
    "                        sublattice.x_position[i],\n",
    "                        sublattice.y_position[i],\n",
    "                        sublattice.sigma_x[i],\n",
    "                        sublattice.sigma_y[i],\n",
    "                        sublattice.rotation[i])\n",
    "\n",
    "for ii in range(omode):\n",
    "    print(f\"Generating {ii}\")\n",
    "    shift_vec = np.zeros((len(sublattice.atom_list),2)) # np.random.normal(0, 1, size=(len(sublattice.atom_list), 2))\n",
    "    shift_vec[target_indices] = np.random.normal(0,1.66, size=(len(target_indices), 2))\n",
    "    \n",
    "    perturbed_gaussian_params = gaussian_params.copy()\n",
    "    #perturbed_gaussian_params[target_indices,1] += shift_vec[target_indices,1] # x_pos\n",
    "    perturbed_gaussian_params[target_indices,2] += shift_vec[target_indices,0] # y_pos \n",
    "    perturbed_gaussian_params[target_indices,3] *= sigma_shrink[target_indices]\n",
    "    perturbed_gaussian_params[target_indices,4] *= sigma_shrink[target_indices] \n",
    "\n",
    "    imstack[ii,0] = generate_canvas(perturbed_gaussian_params, canvas_size)"
   ]
  },
  {
   "cell_type": "code",
   "execution_count": null,
   "metadata": {},
   "outputs": [],
   "source": [
    "hs.signals.Signal2D(imstack[:,0]).plot()\n",
    "data_arr = np.array(hs.signals.Signal2D(imstack[:,0]))"
   ]
  },
  {
   "cell_type": "code",
   "execution_count": null,
   "metadata": {},
   "outputs": [],
   "source": [
    "plt.figure()\n",
    "plt.imshow(data_arr.mean(0))"
   ]
  },
  {
   "cell_type": "code",
   "execution_count": null,
   "metadata": {},
   "outputs": [],
   "source": [
    "from tifffile import imwrite\n",
    "imwrite(\"output/CNS_64obj_initial_guess_16bit.tif\", np.uint16(65535*(data_arr - data_arr.min())/(data_arr.max() - data_arr.min())))\n",
    "imwrite(\"output/CNS_64obj_initial_guess_32bit.tif\", data_arr)\n"
   ]
  },
  {
   "cell_type": "markdown",
   "metadata": {},
   "source": [
    "# hyerspy for SVD approaches"
   ]
  },
  {
   "cell_type": "code",
   "execution_count": null,
   "metadata": {},
   "outputs": [],
   "source": [
    "s = hs.signals.Signal2D(img_crop)\n",
    "s.plot()\n",
    "s.decomposition(algorithm=\"SVD\", centre='signal', output_dimension=4) # Default is SVD, other options: PCA, MLPCA, RPCA, ORPCA, NMF, ORNMF,  \n",
    "s.plot_explained_variance_ratio() \n",
    "s.plot_decomposition_results()"
   ]
  },
  {
   "cell_type": "code",
   "execution_count": null,
   "metadata": {},
   "outputs": [],
   "source": [
    "s.plot_decomposition_loadings(4)"
   ]
  },
  {
   "cell_type": "code",
   "execution_count": null,
   "metadata": {},
   "outputs": [],
   "source": [
    "s.plot_decomposition_factors(4)"
   ]
  },
  {
   "cell_type": "code",
   "execution_count": null,
   "metadata": {},
   "outputs": [],
   "source": [
    "sm = s.get_decomposition_model(components=2)\n",
    "sm.plot(title='model')\n",
    "(s-sm).plot(cmap='seismic', title='difference')"
   ]
  },
  {
   "cell_type": "code",
   "execution_count": null,
   "metadata": {},
   "outputs": [],
   "source": [
    "s.get_decomposition_model()"
   ]
  },
  {
   "cell_type": "code",
   "execution_count": null,
   "metadata": {},
   "outputs": [],
   "source": [
    "data_arr = np.array(s.data)\n",
    "model_arr = np.array(sm)"
   ]
  },
  {
   "cell_type": "code",
   "execution_count": null,
   "metadata": {},
   "outputs": [],
   "source": [
    "imwrite(\"output/CNS_64obj_5e-4_random/CNS_64obj_5e-4_random_16bit.tif\", np.uint16(65535*(data_arr - data_arr.min())/(data_arr.max() - data_arr.min())))\n",
    "imwrite(\"output/CNS_64obj_5e-4_random/CNS_64obj_5e-4_random_SVD_3_of_13comp_16bit.tif\", np.uint16(65535*(model_arr - model_arr.min())/(model_arr.max() - model_arr.min())))"
   ]
  },
  {
   "cell_type": "code",
   "execution_count": null,
   "metadata": {},
   "outputs": [],
   "source": [
    "from tifffile import imwrite\n",
    "sm_arr = np.array(sm)\n",
    "imwrite(\"output/CNS_10obj_1e-4_random/CNS_10obj_1e-4_random_SVD_3_of_10comp.tif\", np.float32(sm_arr))\n",
    "imwrite(\"output/CNS_10obj_1e-4_random/CNS_10obj_1e-4_random_SVD_3_of_10comp_16bit.tif\", np.uint16(65535*(sm_arr - sm_arr.min())/(sm_arr.max() - sm_arr.min())))"
   ]
  },
  {
   "cell_type": "markdown",
   "metadata": {},
   "source": [
    "# PiecewiseAffineTransform"
   ]
  },
  {
   "cell_type": "code",
   "execution_count": null,
   "metadata": {},
   "outputs": [],
   "source": [
    "import numpy as np\n",
    "import matplotlib.pyplot as plt\n",
    "from skimage.transform import warp, PiecewiseAffineTransform\n",
    "from skimage.feature import blob_log\n",
    "\n",
    "canvas = img[0]# (img[0] - img[0].min()) / (img[0].max() - img[0].min())\n",
    "\n",
    "# Generate random filled circles on a black canvas\n",
    "canvas_size = canvas.shape\n",
    "np.random.seed(0)\n",
    "\n",
    "# Plot original image with random circles\n",
    "plt.figure(figsize=(8, 6))\n",
    "plt.imshow(canvas, cmap='gray')\n",
    "plt.title('Original Image')\n",
    "plt.axis('off')\n",
    "plt.show()\n",
    "\n",
    "# Identify control points by detecting corners\n",
    "control_points = blob_log(canvas, max_sigma=5, num_sigma=10, threshold=.04, exclude_border = 50)[:,:2]\n",
    "\n",
    "# Plot original image with control points\n",
    "plt.figure(figsize=(8, 6))\n",
    "plt.imshow(canvas, cmap='gray')\n",
    "plt.plot(control_points[:, 1], control_points[:, 0], 'ro')\n",
    "plt.title('Original Image with Control Points')\n",
    "plt.axis('off')\n",
    "plt.show()\n",
    "\n",
    "# Assign each control point a random warping vector\n",
    "warp_vectors = np.random.normal(0, 1, size=(len(control_points), 2))\n",
    "\n",
    "# Create a PiecewiseAffineTransform object\n",
    "transform = PiecewiseAffineTransform()\n",
    "\n",
    "# Add control points and their corresponding displaced points to the transform object\n",
    "src, dst = control_points, control_points + warp_vectors\n",
    "transform.estimate(src, dst)\n",
    "\n",
    "# Apply the warp transformation to the image\n",
    "warped_image = warp(canvas, transform, output_shape=canvas.shape)\n",
    "\n",
    "# Plot warped image\n",
    "plt.figure(figsize=(8, 6))\n",
    "plt.imshow(warped_image, cmap='gray')\n",
    "plt.title('Warped Image')\n",
    "plt.axis('off')\n",
    "plt.show()\n",
    "\n",
    "# Plot difference image\n",
    "plt.figure(figsize=(8, 6))\n",
    "plt.imshow(warped_image - canvas, cmap='seismic', vmin=-0.5, vmax=0.5)\n",
    "plt.title('Difference Image')\n",
    "plt.axis('off')\n",
    "plt.show()\n"
   ]
  }
 ],
 "metadata": {
  "kernelspec": {
   "display_name": "Python 3 (ipykernel)",
   "language": "python",
   "name": "python3"
  },
  "language_info": {
   "codemirror_mode": {
    "name": "ipython",
    "version": 3
   },
   "file_extension": ".py",
   "mimetype": "text/x-python",
   "name": "python",
   "nbconvert_exporter": "python",
   "pygments_lexer": "ipython3",
   "version": "3.11.9"
  }
 },
 "nbformat": 4,
 "nbformat_minor": 4
}
