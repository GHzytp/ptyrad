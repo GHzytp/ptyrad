{
 "cells": [
  {
   "cell_type": "markdown",
   "metadata": {},
   "source": [
    " # PtyRAD - PTYchographic Reconstruction with Automatic Differentiation\n",
    "\n",
    " Chia-Hao Lee\n",
    "\n",
    "cl2696@cornell.edu\n",
    "\n",
    "Created 2024.03.08"
   ]
  },
  {
   "cell_type": "markdown",
   "metadata": {},
   "source": [
    "# 01. Imports"
   ]
  },
  {
   "cell_type": "code",
   "execution_count": null,
   "metadata": {},
   "outputs": [],
   "source": [
    "%reload_ext autoreload\n",
    "%autoreload 2\n",
    "\n",
    "import os\n",
    "import matplotlib.pyplot as plt\n",
    "\n",
    "import numpy as np\n",
    "import torch\n",
    "from tifffile import imread, imwrite\n",
    "\n",
    "GPUID = 0\n",
    "DEVICE = torch.device(\"cuda:\" + str(GPUID))\n",
    "print(\"Execution device: \", DEVICE)\n",
    "print(\"PyTorch version: \", torch.__version__)\n",
    "print(\"CUDA available: \", torch.cuda.is_available())\n",
    "print(\"CUDA version: \", torch.version.cuda)\n",
    "print(\"CUDA device:\", torch.cuda.get_device_name(GPUID))"
   ]
  },
  {
   "cell_type": "code",
   "execution_count": null,
   "metadata": {},
   "outputs": [],
   "source": [
    "from ptyrad.initialization import Initializer\n",
    "from ptyrad.models import PtychoAD\n",
    "from ptyrad.optimization import CombinedLoss, CombinedConstraint, ptycho_recon, loss_logger\n",
    "from ptyrad.visualization import plot_forward_pass\n",
    "from ptyrad.utils import test_loss_fn, make_batches, time_sync, select_center_rectangle_indices, make_save_dict, make_recon_params_dict, shuffle_batches"
   ]
  },
  {
   "cell_type": "markdown",
   "metadata": {},
   "source": [
    "# 02. Initialize optimization"
   ]
  },
  {
   "cell_type": "code",
   "execution_count": null,
   "metadata": {},
   "outputs": [],
   "source": [
    "# # tBL_WSe2\n",
    "\n",
    "# ptycho_output_mat_path = 'data/tBL_WSe2/Fig_1h_24.9mrad_Themis/1/roi1_Ndp128_step128/MLs_L1_p10_g128_pc0_noModel_updW100_mm_dpFlip_ud_T/Niter9000_v7.mat'\n",
    "# exp_CBED_path          = 'data/tBL_WSe2/Fig_1h_24.9mrad_Themis/1/data_roi1_Ndp128_step128_dp.hdf5'\n",
    "\n",
    "# exp_params = {\n",
    "#     \"kv\"                : 80,  # kV\n",
    "#     \"conv_angle\"        : 24.9, # mrad, semi-convergence angle\n",
    "#     \"Npix\"              : 128, # Detector pixel number, EMPAD is 128. Only supports square detector for simplicity\n",
    "#     \"rbf\"               : None, # Pixels of radius of BF disk, used to calculate dk\n",
    "#     \"dx_spec\"           : 0.1494,# Ang\n",
    "#     \"defocus\"           : 0, # Ang, positive defocus here refers to actual underfocus or weaker lens strength following Kirkland/abtem/ptychoshelves convention\n",
    "#     \"c3\"                : 0, # Ang, spherical aberration coefficients\n",
    "#     \"z_distance\"        : 8, # Ang\n",
    "#     \"Nlayer\"            : 1,\n",
    "#     \"N_scans\"           : 16384,\n",
    "#     \"omode_max\"         : 1,\n",
    "#     \"pmode_max\"         : 10,\n",
    "#     \"pmode_init_pows\"   : [0.02],\n",
    "#     \"probe_permute\"     : None,\n",
    "#     \"cbeds_permute\"     : None,\n",
    "#     \"cbeds_reshape\"     : None,\n",
    "#     \"cbeds_flip\"        : (1),\n",
    "#     \"probe_simu_params\" : None\n",
    "#     }\n",
    "\n",
    "# # Source and params, note that these should be changed in accordance with each other\n",
    "# source_params = {\n",
    "#     'measurements_source': 'hdf5',\n",
    "#     'measurements_params': [exp_CBED_path, 'dp'],\n",
    "#     'obj_source'         : 'simu', \n",
    "#     'obj_params'         : (1,1,592,592),\n",
    "#     'probe_source'       : 'PtyShv',\n",
    "#     'probe_params'       : ptycho_output_mat_path,  # probe_simu_params\n",
    "#     'pos_source'         : 'PtyShv',\n",
    "#     'pos_params'         : ptycho_output_mat_path,\n",
    "#     'omode_occu_source'  : 'uniform',\n",
    "#     'omode_occu_params'  : None\n",
    "# }"
   ]
  },
  {
   "cell_type": "code",
   "execution_count": null,
   "metadata": {},
   "outputs": [],
   "source": [
    "# # CNS\n",
    "# ptycho_output_mat_path = \"data/CNS_from_Hari/Niter10000.mat\"\n",
    "# exp_CBED_path =          \"data/CNS_from_Hari/240327_fov_23p044A_x_24p402A_thickness_9p978A_step0p28_conv30_dfm100_det70_TDS_2configs_xdirection_Co_0p25_Nb_0_S_0.mat\" \n",
    "\n",
    "# exp_params = {\n",
    "#     \"kv\"                : 300,  # kV\n",
    "#     \"conv_angle\"        : 30, # mrad, semi-convergence angle\n",
    "#     \"Npix\"              : 164, # Detector pixel number, EMPAD is 128. Only supports square detector for simplicity\n",
    "#     \"rbf\"               : None, # Pixels of radius of BF disk, used to calculate dk\n",
    "#     \"dx_spec\"           : 0.1406,# Ang\n",
    "#     \"defocus\"           : -100, # Ang, positive defocus here refers to actual underfocus or weaker lens strength following Kirkland/abtem/ptychoshelves convention\n",
    "#     \"c3\"                : 0, # Ang, spherical aberration coefficients\n",
    "#     \"z_distance\"        : 1.25, # Ang\n",
    "#     \"Nlayer\"            : 8,\n",
    "#     \"N_scans\"           : 7134,\n",
    "#     \"omode_max\"         : 1,\n",
    "#     \"pmode_max\"         : 2,\n",
    "#     \"pmode_init_pows\"   : [0.02],\n",
    "#     \"probe_permute\"     : None,\n",
    "#     \"cbeds_permute\"     : (0,1,3,2),\n",
    "#     \"cbeds_reshape\"     : (7134,164,164),\n",
    "#     \"cbeds_flip\"        : None,\n",
    "#     \"probe_simu_params\" : None\n",
    "#     }\n",
    "\n",
    "# # Source and params, note that these should be changed in accordance with each other\n",
    "# source_params = {\n",
    "#     'measurements_source': 'mat',\n",
    "#     'measurements_params': [exp_CBED_path, 'cbed'],\n",
    "#     'obj_source'         : 'simu',\n",
    "#     'obj_params'         : (1,8,391,403),\n",
    "#     'probe_source'       : 'simu',\n",
    "#     'probe_params'       : None, \n",
    "#     'pos_source'         : 'PtyShv',\n",
    "#     'pos_params'         : ptycho_output_mat_path,\n",
    "#     'omode_occu_source'  : 'uniform',\n",
    "#     'omode_occu_params'  : None\n",
    "# }\n"
   ]
  },
  {
   "cell_type": "code",
   "execution_count": null,
   "metadata": {},
   "outputs": [],
   "source": [
    "# # PSO 256\n",
    "\n",
    "# ptycho_output_mat_path = 'data/PSO/MLs_L1_p8_g32_pc50_noModel_vp1_Ns21_dz10_reg1/Niter200.mat'\n",
    "# exp_CBED_path          = 'data/PSO/MLs_L1_p8_g32_pc50_noModel_vp1_Ns21_dz10_reg1/PSO_data_roi0_Ndp256_dp.hdf5'\n",
    "\n",
    "# exp_params = {\n",
    "#     \"kv\"                : 300,  # kV\n",
    "#     \"conv_angle\"        : 21.4, # mrad, semi-convergence angle\n",
    "#     \"Npix\"              : 256, # Detector pixel number, EMPAD is 128. Only supports square detector for simplicity\n",
    "#     \"rbf\"               : None, # Pixels of radius of BF disk, used to calculate dk\n",
    "#     \"dx_spec\"           : 0.0934,# Ang\n",
    "#     \"defocus\"           : -200, # Ang, positive defocus here refers to actual underfocus or weaker lens strength following Kirkland/abtem/ptychoshelves convention\n",
    "#     \"c3\"                : 0, # Ang, spherical aberration coefficients\n",
    "#     \"z_distance\"        : 10, # Ang\n",
    "#     \"Nlayer\"            : 21,\n",
    "#     \"N_scans\"           : 4096,\n",
    "#     \"omode_max\"         : 1,\n",
    "#     \"pmode_max\"         : 8,\n",
    "#     \"pmode_init_pows\"   : [0.02],\n",
    "#     \"probe_permute\"     : None,\n",
    "#     \"cbeds_permute\"     : (0,2,1),\n",
    "#     \"cbeds_reshape\"     : None,\n",
    "#     \"cbeds_flip\"        : None\n",
    "#     \"probe_simu_params\" : None\n",
    "#     }\n",
    "\n",
    "# # Source and params, note that these should be changed in accordance with each other\n",
    "# source_params = {\n",
    "#     'measurements_source': 'hdf5',\n",
    "#     'measurements_params': [exp_CBED_path, 'dp'],\n",
    "#     'obj_source'         : 'PtyShv',\n",
    "#     'obj_params'         : ptycho_output_mat_path,\n",
    "#     'probe_source'       : 'simu',\n",
    "#     'probe_params'       : ptycho_output_mat_path,  # probe_simu_params\n",
    "#     'pos_source'         : 'PtyShv',\n",
    "#     'pos_params'         : ptycho_output_mat_path,\n",
    "#     'omode_occu_source'  : 'uniform',\n",
    "#     'omode_occu_params'  : None\n",
    "# }\n"
   ]
  },
  {
   "cell_type": "code",
   "execution_count": null,
   "metadata": {},
   "outputs": [],
   "source": [
    "# PSO 128\n",
    "\n",
    "ptycho_output_mat_path = 'data/PSO/MLs_L1_p8_g192_Ndp128_pc50_noModel_vp1_Ns21_dz10_reg1/Niter200.mat'\n",
    "exp_CBED_path          = 'data/PSO/MLs_L1_p8_g192_Ndp128_pc50_noModel_vp1_Ns21_dz10_reg1/PSO_data_roi0_Ndp128_dp.hdf5'\n",
    "\n",
    "exp_params = {\n",
    "    \"kv\"                : 300,  # kV\n",
    "    \"conv_angle\"        : 21.4, # mrad, semi-convergence angle\n",
    "    \"Npix\"              : 128, # Detector pixel number, EMPAD is 128. Only supports square detector for simplicity\n",
    "    \"rbf\"               : None, # Pixels of radius of BF disk, used to calculate dk\n",
    "    \"dx_spec\"           : 0.1868,# Ang\n",
    "    \"defocus\"           : -200, # Ang, positive defocus here refers to actual underfocus or weaker lens strength following Kirkland/abtem/ptychoshelves convention\n",
    "    \"c3\"                : 0, # Ang, spherical aberration coefficients\n",
    "    \"z_distance\"        : 10, # Ang\n",
    "    \"Nlayer\"            : 21,\n",
    "    \"N_scans\"           : 4096,\n",
    "    \"omode_max\"         : 1,\n",
    "    \"pmode_max\"         : 8,\n",
    "    \"pmode_init_pows\"   : [0.02],\n",
    "    \"probe_permute\"     : None,\n",
    "    \"cbeds_permute\"     : (0,2,1),\n",
    "    \"cbeds_reshape\"     : None,\n",
    "    \"cbeds_flip\"        : None,\n",
    "    \"probe_simu_params\" : None\n",
    "    }\n",
    "\n",
    "# Source and params, note that these should be changed in accordance with each other\n",
    "source_params = {\n",
    "    'measurements_source': 'hdf5',\n",
    "    'measurements_params': [exp_CBED_path, 'dp'],\n",
    "    'obj_source'         : 'simu',#'PtyShv', #'simu',\n",
    "    'obj_params'         : (1,21,320,320), #ptycho_output_mat_path,#(1,21,320,320),\n",
    "    'probe_source'       : 'simu', #'PtyShv',\n",
    "    'probe_params'       : None, #ptycho_output_mat_path,  # probe_simu_params\n",
    "    'pos_source'         : 'PtyShv',\n",
    "    'pos_params'         : ptycho_output_mat_path,\n",
    "    'omode_occu_source'  : 'uniform',\n",
    "    'omode_occu_params'  : None\n",
    "}\n"
   ]
  },
  {
   "cell_type": "code",
   "execution_count": null,
   "metadata": {},
   "outputs": [],
   "source": [
    "init = Initializer(exp_params, source_params).init_all()"
   ]
  },
  {
   "cell_type": "code",
   "execution_count": null,
   "metadata": {},
   "outputs": [],
   "source": [
    "model_params = {\n",
    "    'init_variables': init.init_variables,\n",
    "    'lr_params':{\n",
    "        'obja': 0,\n",
    "        'objp': 5e-4,\n",
    "        'probe': 5e-4, \n",
    "        'probe_pos_shifts': 5e-4}}\n",
    "\n",
    "model = PtychoAD(model_params, device=DEVICE)\n",
    "\n",
    "# Use model.set_optimizer(new_lr_params) to update the variable flag and optimizer_params\n",
    "optimizer = torch.optim.Adam(model.optimizer_params)"
   ]
  },
  {
   "cell_type": "code",
   "execution_count": null,
   "metadata": {},
   "outputs": [],
   "source": [
    "# # Use this to edit learning rate if needed some refinement\n",
    "\n",
    "# model.set_optimizer(lr_params={'obja': 0,\n",
    "#                                'objp': 5e-4,\n",
    "#                                'probe': 5e-4, \n",
    "#                                'probe_pos_shifts': 0})\n",
    "# optimizer=torch.optim.Adam(model.optimizer_params)"
   ]
  },
  {
   "cell_type": "markdown",
   "metadata": {},
   "source": [
    "## Check the forward pass"
   ]
  },
  {
   "cell_type": "code",
   "execution_count": null,
   "metadata": {},
   "outputs": [],
   "source": [
    "indices = np.random.randint(0,exp_params['N_scans'],2)\n",
    "dp_power = 0.5\n",
    "\n",
    "plot_forward_pass(model, indices, dp_power, init.init_variables['obj'])"
   ]
  },
  {
   "cell_type": "markdown",
   "metadata": {},
   "source": [
    "## Finetune the loss params"
   ]
  },
  {
   "cell_type": "code",
   "execution_count": null,
   "metadata": {},
   "outputs": [],
   "source": [
    "loss_params = {\n",
    "    'loss_single': {'state':  True,  'weight': 1.0, 'dp_pow': 0.5},\n",
    "    'loss_pacbed': {'state': False,  'weight': 1.0, 'dp_pow': 0.2},\n",
    "    'loss_tv'    : {'state': False,  'weight': 1e-5},\n",
    "    'loss_l1'    : {'state': True,   'weight': 0.1},\n",
    "    'loss_l2'    : {'state': False,  'weight': 1.0},\n",
    "    'loss_postiv': {'state':  False,  'weight': 1.0}\n",
    "}\n",
    "\n",
    "indices = np.random.randint(0,exp_params['N_scans'],128)\n",
    "loss_fn = CombinedLoss(loss_params, device=DEVICE)\n",
    "test_loss_fn(model, indices, loss_fn)"
   ]
  },
  {
   "cell_type": "markdown",
   "metadata": {},
   "source": [
    "# Setup the iteration-wise constraint params"
   ]
  },
  {
   "cell_type": "code",
   "execution_count": null,
   "metadata": {},
   "outputs": [],
   "source": [
    "constraint_params = {\n",
    "    'postiv'        : {'freq': 1},\n",
    "    'ortho_pmode'   : {'freq': 1},\n",
    "    'ortho_omode'   : {'freq': None},\n",
    "    'kz_filter'     : {'freq': 1, 'beta':1, 'alpha':1, 'z_pad':None}\n",
    "}\n",
    "\n",
    "constraint_fn = CombinedConstraint(constraint_params, device=DEVICE)"
   ]
  },
  {
   "cell_type": "markdown",
   "metadata": {},
   "source": [
    "# 03. Main optimization loop"
   ]
  },
  {
   "cell_type": "code",
   "execution_count": null,
   "metadata": {},
   "outputs": [],
   "source": [
    "NITER = 120\n",
    "BATCH_SIZE = 32\n",
    "GROUP = 'sparse'\n",
    "\n",
    "#indices = np.array(select_center_rectangle_indices(87,82,32,32))\n",
    "indices = np.arange(model.measurements.size(0))\n",
    "pos = model.crop_pos.cpu().numpy()\n",
    "batches = make_batches(indices, pos, BATCH_SIZE, group = GROUP)\n",
    "\n",
    "output_path = f\"output/PSO/{model.opt_objp.size(0)}obj_{model.opt_objp.size(1)}slice_N{len(indices)}_dp{model.measurements.size(1)}_lr{model_params['lr_params']['objp']:.0e}_b{BATCH_SIZE}_{GROUP}_fix_obja_l10.1/\"\n",
    "print(f\"output_path = {output_path}\")\n",
    "os.makedirs(output_path, exist_ok=True)\n",
    "recon_params = make_recon_params_dict(NITER, BATCH_SIZE, GROUP, batches, output_path)\n",
    "\n",
    "loss_iters = []\n",
    "for iter in range(1, NITER+1):\n",
    "    \n",
    "    batches = shuffle_batches(batches, BATCH_SIZE, GROUP)\n",
    "    batch_losses, iter_t = ptycho_recon(batches, model, optimizer, loss_fn, constraint_fn, iter)\n",
    "    loss_iters.append((iter, loss_logger(batch_losses, iter, iter_t)))\n",
    "    \n",
    "    ## Saving\n",
    "    if iter % 10 == 0:\n",
    "        save_dict = make_save_dict(model, exp_params, source_params, loss_params, constraint_params, recon_params, loss_iters, iter_t, iter, batch_losses)\n",
    "        torch.save(save_dict, os.path.join(output_path, f\"model_iter{str(iter).zfill(4)}.pt\"))\n",
    "        imwrite(os.path.join(output_path, f\"objp_iter{str(iter).zfill(4)}.tif\"), model.opt_objp[0].detach().cpu().numpy().astype('float32'))"
   ]
  },
  {
   "cell_type": "code",
   "execution_count": null,
   "metadata": {},
   "outputs": [],
   "source": [
    "# Quick plot of the loss curve\n",
    "plt.figure()\n",
    "plt.plot(np.array(loss_iters)[:,1])\n",
    "plt.show()"
   ]
  },
  {
   "cell_type": "code",
   "execution_count": null,
   "metadata": {},
   "outputs": [],
   "source": [
    "# Comparing the initial probe intensity, CBED intensity, and optimized probe int\n",
    "init_probe_int = np.sum(np.abs(init.init_variables['probe'])**2)\n",
    "init_CBED_int = np.sum(np.mean(init.init_variables['measurements'], 0))\n",
    "opt_probe_int = model.opt_probe.abs().pow(2).sum().detach().cpu().numpy()\n",
    "print(f\"{init_probe_int}, {init_CBED_int}, {opt_probe_int}\")"
   ]
  },
  {
   "cell_type": "code",
   "execution_count": null,
   "metadata": {},
   "outputs": [],
   "source": [
    "# Visualize the probe modes\n",
    "init_probe = init.init_variables['probe']\n",
    "opt_probe = model.opt_probe.detach().cpu().numpy()\n",
    "fig, axs = plt.subplots(2, len(opt_probe), figsize=(len(opt_probe)*2.5, 6))\n",
    "for i in range(len(opt_probe)):\n",
    "    ax_init = axs[0, i]\n",
    "    ax_init.set_title(f\"Init probe {i}\")\n",
    "    im_init = ax_init.imshow(np.abs(init_probe[i]))\n",
    "    ax_init.axis('off')\n",
    "    plt.colorbar(im_init, ax=ax_init, shrink=0.6)\n",
    "\n",
    "    ax_opt = axs[1, i]\n",
    "    ax_opt.set_title(f\"Opt probe {i}\")\n",
    "    im_opt = ax_opt.imshow(np.abs(opt_probe[i]))\n",
    "    ax_opt.axis('off')\n",
    "    plt.colorbar(im_opt, ax=ax_opt, shrink=0.6)\n",
    "\n",
    "plt.tight_layout()\n",
    "plt.show()"
   ]
  }
 ],
 "metadata": {
  "kernelspec": {
   "display_name": "ptyrad",
   "language": "python",
   "name": "python3"
  },
  "language_info": {
   "codemirror_mode": {
    "name": "ipython",
    "version": 3
   },
   "file_extension": ".py",
   "mimetype": "text/x-python",
   "name": "python",
   "nbconvert_exporter": "python",
   "pygments_lexer": "ipython3",
   "version": "3.11.5"
  }
 },
 "nbformat": 4,
 "nbformat_minor": 2
}
