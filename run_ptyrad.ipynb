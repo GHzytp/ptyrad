{
 "cells": [
  {
   "cell_type": "markdown",
   "metadata": {},
   "source": [
    " # PtyRAD - PTYchographic Reconstruction with Automatic Differentiation\n",
    "\n",
    " Chia-Hao Lee\n",
    "\n",
    "cl2696@cornell.edu\n",
    "\n",
    "Created 2024.03.08"
   ]
  },
  {
   "cell_type": "markdown",
   "metadata": {},
   "source": [
    "# 01. Imports"
   ]
  },
  {
   "cell_type": "code",
   "execution_count": null,
   "metadata": {},
   "outputs": [],
   "source": [
    "%reload_ext autoreload\n",
    "%autoreload 2\n",
    "\n",
    "from random import shuffle\n",
    "\n",
    "import numpy as np\n",
    "import matplotlib.pyplot as plt\n",
    "import torch\n",
    "\n",
    "GPUID = 0\n",
    "DEVICE = torch.device('cuda:' + str(GPUID))\n",
    "print('Execution device: ', DEVICE)\n",
    "print('PyTorch version: ', torch.__version__)\n",
    "print('CUDA available: ', torch.cuda.is_available())\n",
    "print('CUDA version: ', torch.version.cuda)\n",
    "print('CUDA device:', torch.cuda.get_device_name(GPUID))"
   ]
  },
  {
   "cell_type": "code",
   "execution_count": null,
   "metadata": {},
   "outputs": [],
   "source": [
    "from ptyrad.initialization import Initializer\n",
    "from ptyrad.models import PtychoAD\n",
    "from ptyrad.optimization import CombinedLoss, CombinedConstraint, ptycho_recon, loss_logger\n",
    "from ptyrad.visualization import plot_forward_pass, plot_scan_positions, plot_summary, plot_pos_grouping\n",
    "from ptyrad.utils import test_loss_fn, select_scan_indices, make_batches, make_recon_params_dict, make_output_folder, save_results, get_blob_size, imshift_batch"
   ]
  },
  {
   "cell_type": "markdown",
   "metadata": {},
   "source": [
    "# 02. Initialize optimization"
   ]
  },
  {
   "cell_type": "code",
   "execution_count": null,
   "metadata": {},
   "outputs": [],
   "source": [
    "from ptyrad.inputs.params_CNS import exp_params, source_params\n",
    "# from ptyrad.inputs.params_PSO_128 import exp_params, source_params\n",
    "# from ptyrad.inputs.params_tBL_WSe2 import exp_params, source_params\n",
    "\n",
    "# from ptyrad.inputs.params_BaM_128 import exp_params, source_params\n",
    "# from ptyrad.inputs.params_BaM_256 import exp_params, source_params\n",
    "# from ptyrad.inputs.params_STO_128 import exp_params, source_params\n",
    "# from ptyrad.inputs.params_NNO3 import exp_params, source_params\n",
    "# from ptyrad.inputs.params_Si_128 import exp_params, source_params\n",
    "# from ptyrad.inputs.params_PdPt import exp_params, source_params\n",
    "\n"
   ]
  },
  {
   "cell_type": "code",
   "execution_count": null,
   "metadata": {},
   "outputs": [],
   "source": [
    "init = Initializer(exp_params, source_params).init_all()"
   ]
  },
  {
   "cell_type": "code",
   "execution_count": null,
   "metadata": {},
   "outputs": [],
   "source": [
    "pos = init.init_variables['crop_pos'] + init.init_variables['probe_pos_shifts']\n",
    "plot_scan_positions(pos)"
   ]
  },
  {
   "cell_type": "code",
   "execution_count": null,
   "metadata": {},
   "outputs": [],
   "source": [
    "model_params = {\n",
    "    'detector_blur_std': 1,\n",
    "    'lr_params':{\n",
    "        'obja': 5e-4,\n",
    "        'objp': 5e-4,\n",
    "        'probe': 1e-3, \n",
    "        'probe_pos_shifts': 1e-3}}\n",
    "\n",
    "model = PtychoAD(init.init_variables, model_params, device=DEVICE)\n",
    "\n",
    "# Use model.set_optimizer(new_lr_params) to update the variable flag and optimizer_params\n",
    "optimizer = torch.optim.Adam(model.optimizer_params)"
   ]
  },
  {
   "cell_type": "markdown",
   "metadata": {},
   "source": [
    "## Check the forward pass"
   ]
  },
  {
   "cell_type": "code",
   "execution_count": null,
   "metadata": {},
   "outputs": [],
   "source": [
    "indices = np.random.randint(0,exp_params['N_scans'],2)\n",
    "dp_power = 0.5\n",
    "\n",
    "plot_forward_pass(model, indices, dp_power)"
   ]
  },
  {
   "cell_type": "markdown",
   "metadata": {},
   "source": [
    "## Finetune the loss params"
   ]
  },
  {
   "cell_type": "code",
   "execution_count": null,
   "metadata": {},
   "outputs": [],
   "source": [
    "loss_params = {\n",
    "    'loss_single': {'state':  True,  'weight': 1.0, 'dp_pow': 0.5},\n",
    "    'loss_pacbed': {'state': False,  'weight': 1.0, 'dp_pow': 0.2},\n",
    "    'loss_tv'    : {'state': False,  'weight': 2e-4},\n",
    "    'loss_l1'    : {'state': False,  'weight': 0.1},\n",
    "    'loss_l2'    : {'state': False,  'weight': 1.0},\n",
    "    'loss_postiv': {'state': False,  'weight': 1.0}\n",
    "}\n",
    "\n",
    "indices = np.random.randint(0,exp_params['N_scans'], 16)\n",
    "loss_fn = CombinedLoss(loss_params, device=DEVICE)\n",
    "test_loss_fn(model, indices, loss_fn)"
   ]
  },
  {
   "cell_type": "markdown",
   "metadata": {},
   "source": [
    "# Setup the iteration-wise constraint params"
   ]
  },
  {
   "cell_type": "code",
   "execution_count": null,
   "metadata": {},
   "outputs": [],
   "source": [
    "constraint_params = {\n",
    "    'objp_blur'     : {'freq': None, 'std':None},\n",
    "    'ortho_pmode'   : {'freq': 1},\n",
    "    'ortho_omode'   : {'freq': None},\n",
    "    'kz_filter'     : {'freq': 1, 'beta':1, 'alpha':1, 'z_pad':None, 'obj_type':'both'},\n",
    "    'postiv'        : {'freq': 1},\n",
    "    'fix_probe_int' : {'freq': 1}\n",
    "}\n",
    "\n",
    "constraint_fn = CombinedConstraint(constraint_params, device=DEVICE)"
   ]
  },
  {
   "cell_type": "markdown",
   "metadata": {},
   "source": [
    "# 03. Main optimization loop"
   ]
  },
  {
   "cell_type": "code",
   "execution_count": null,
   "metadata": {},
   "outputs": [],
   "source": [
    "NITER        = 100\n",
    "INDICES_MODE = 'full'   # 'full', 'center', 'sub'\n",
    "BATCH_SIZE   = 256\n",
    "GROUP_MODE   = 'sparse' # 'random', 'sparse', 'compact'\n",
    "SAVE_ITERS   = 10        # scalar or None\n",
    "\n",
    "output_dir   = 'output/CNS'\n",
    "postfix      = '_testplot'\n",
    "\n",
    "pos          = (model.crop_pos + model.opt_probe_pos_shifts).detach().cpu().numpy()\n",
    "probe_int    = model.opt_probe[0].abs().pow(2).detach().cpu().numpy()\n",
    "dx           = exp_params['dx_spec']\n",
    "d90          = get_blob_size(dx, probe_int)\n",
    "indices      = select_scan_indices(exp_params['N_scan_slow'], exp_params['N_scan_fast'], subscan_slow=None, subscan_fast=None, mode=INDICES_MODE)\n",
    "batches      = make_batches(indices, pos, BATCH_SIZE, mode=GROUP_MODE)\n",
    "recon_params = make_recon_params_dict(NITER, INDICES_MODE, BATCH_SIZE, GROUP_MODE, SAVE_ITERS)\n",
    "output_path  = make_output_folder(output_dir, indices, exp_params, recon_params, model, constraint_params, postfix)\n",
    "\n",
    "fig_grouping = plot_pos_grouping(pos, batches, circle_diameter=d90/dx, dot_scale=1, pass_fig=True)\n",
    "fig_grouping.savefig(output_path + f\"/summary_pos_grouping.png\")"
   ]
  },
  {
   "cell_type": "code",
   "execution_count": null,
   "metadata": {},
   "outputs": [],
   "source": [
    "loss_iters = []\n",
    "for niter in range(1, NITER+1):\n",
    "    \n",
    "    shuffle(batches)\n",
    "    batch_losses, iter_t = ptycho_recon(batches, model, optimizer, loss_fn, constraint_fn, niter)\n",
    "    loss_iters.append((niter, loss_logger(batch_losses, niter, iter_t)))\n",
    "    \n",
    "    ## Saving intermediate results\n",
    "    if SAVE_ITERS is not None and niter % SAVE_ITERS == 0:\n",
    "        save_results(output_path, model, exp_params, source_params, loss_params, constraint_params, recon_params, loss_iters, iter_t, niter, batch_losses)\n",
    "        \n",
    "        ## Saving summary\n",
    "        plot_summary(output_path, loss_iters, niter, indices, init.init_variables, model, show_fig=False, save_fig=True)"
   ]
  }
 ],
 "metadata": {
  "kernelspec": {
   "display_name": "ptyrad",
   "language": "python",
   "name": "python3"
  },
  "language_info": {
   "codemirror_mode": {
    "name": "ipython",
    "version": 3
   },
   "file_extension": ".py",
   "mimetype": "text/x-python",
   "name": "python",
   "nbconvert_exporter": "python",
   "pygments_lexer": "ipython3",
   "version": "3.11.5"
  }
 },
 "nbformat": 4,
 "nbformat_minor": 2
}
